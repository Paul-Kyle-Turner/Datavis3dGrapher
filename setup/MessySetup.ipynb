{
  "nbformat": 4,
  "nbformat_minor": 0,
  "metadata": {
    "colab": {
      "name": "Untitled",
      "provenance": [],
      "machine_shape": "hm"
    },
    "kernelspec": {
      "name": "python3",
      "display_name": "Python 3"
    }
  },
  "cells": [
    {
      "cell_type": "markdown",
      "metadata": {
        "id": "SZRsVK2i6NOb",
        "colab_type": "text"
      },
      "source": [
        "This file is pretty messy.  Read the readme instead of this to know how to create the input files."
      ]
    },
    {
      "cell_type": "code",
      "metadata": {
        "id": "eXI7F8GFTiDa",
        "colab_type": "code",
        "colab": {}
      },
      "source": [
        "#from google.colab import drive\n",
        "#drive.mount('/content/drive')"
      ],
      "execution_count": 0,
      "outputs": []
    },
    {
      "cell_type": "code",
      "metadata": {
        "id": "AJEx0SgFTmpg",
        "colab_type": "code",
        "colab": {}
      },
      "source": [
        "import os\n",
        "print(os.getcwd())\n",
        "os.chdir(\"drive/My Drive/ColabRun\")"
      ],
      "execution_count": 0,
      "outputs": []
    },
    {
      "cell_type": "code",
      "metadata": {
        "id": "ovjezB7NTi-B",
        "colab_type": "code",
        "colab": {}
      },
      "source": [
        "import re\n",
        "import pandas as pd\n",
        "import random\n",
        "\n",
        "with open('all_analysis_data.txt', 'r') as original_data:\n",
        "    api_calls = original_data.readlines()\n",
        "\n",
        "with open('labels.csv', 'r') as in_file:\n",
        "    labels = in_file.readlines()\n",
        "\n",
        "index_df = pd.read_csv('index.csv')\n",
        "index_df.columns = ['index']\n",
        "\n",
        "rows = index_df['index'].values\n",
        "\n",
        "temp_calls = []\n",
        "temp_labels = []\n",
        "rows2 = []\n",
        "\n",
        "for i in range(len(api_calls)):\n",
        "    if i in rows:\n",
        "        temp_calls.append(api_calls[i])\n",
        "        temp_labels.append(re.sub(r'\\n', '', labels[i]))\n",
        "    \n",
        "sample = random.sample(range(len(temp_calls)), 500)"
      ],
      "execution_count": 0,
      "outputs": []
    },
    {
      "cell_type": "code",
      "metadata": {
        "id": "Rwpino4nWJrG",
        "colab_type": "code",
        "colab": {}
      },
      "source": [
        "rows = index_df['index'].values"
      ],
      "execution_count": 0,
      "outputs": []
    },
    {
      "cell_type": "code",
      "metadata": {
        "id": "ohcddiTbemDg",
        "colab_type": "code",
        "colab": {}
      },
      "source": [
        "sample.sort()"
      ],
      "execution_count": 0,
      "outputs": []
    },
    {
      "cell_type": "code",
      "metadata": {
        "id": "an78gYa0eUkI",
        "colab_type": "code",
        "outputId": "853b4fde-8bd2-4afe-e195-3aad4971a7a0",
        "colab": {
          "base_uri": "https://localhost:8080/",
          "height": 72
        }
      },
      "source": [
        "print(sample)\n",
        "print(len(sample))"
      ],
      "execution_count": 0,
      "outputs": [
        {
          "output_type": "stream",
          "text": [
            "[34, 36, 47, 53, 54, 64, 78, 89, 95, 99, 107, 124, 144, 149, 154, 240, 241, 250, 252, 264, 269, 275, 290, 334, 353, 364, 367, 392, 440, 445, 464, 466, 498, 535, 541, 542, 545, 552, 558, 569, 575, 578, 587, 591, 648, 651, 652, 695, 698, 719, 723, 726, 727, 739, 752, 756, 785, 811, 817, 839, 842, 850, 859, 864, 867, 883, 886, 900, 908, 919, 924, 928, 929, 934, 948, 969, 978, 989, 1013, 1017, 1024, 1048, 1060, 1066, 1077, 1089, 1109, 1121, 1137, 1154, 1160, 1167, 1185, 1191, 1194, 1205, 1209, 1211, 1236, 1237, 1240, 1250, 1263, 1279, 1282, 1297, 1328, 1339, 1345, 1351, 1356, 1368, 1370, 1382, 1387, 1399, 1409, 1413, 1415, 1421, 1468, 1471, 1481, 1485, 1496, 1499, 1529, 1531, 1532, 1540, 1555, 1604, 1623, 1635, 1643, 1676, 1707, 1719, 1747, 1752, 1770, 1778, 1780, 1783, 1784, 1790, 1792, 1820, 1822, 1848, 1870, 1882, 1893, 1895, 1903, 1915, 1925, 1943, 1961, 1963, 1964, 1976, 1987, 2003, 2007, 2012, 2024, 2032, 2036, 2038, 2047, 2059, 2070, 2071, 2080, 2088, 2097, 2113, 2133, 2147, 2152, 2156, 2157, 2160, 2165, 2171, 2176, 2181, 2184, 2194, 2206, 2222, 2224, 2251, 2263, 2270, 2279, 2295, 2296, 2297, 2308, 2310, 2312, 2314, 2324, 2338, 2348, 2352, 2364, 2366, 2368, 2385, 2386, 2401, 2406, 2411, 2419, 2423, 2431, 2438, 2440, 2447, 2449, 2469, 2470, 2473, 2474, 2485, 2495, 2529, 2542, 2544, 2549, 2557, 2569, 2574, 2583, 2584, 2610, 2615, 2620, 2643, 2667, 2669, 2674, 2741, 2753, 2770, 2773, 2789, 2799, 2800, 2803, 2825, 2851, 2856, 2862, 2867, 2873, 2878, 2894, 2895, 2906, 2907, 2922, 2930, 2940, 2943, 2945, 2947, 2952, 2953, 2975, 3019, 3024, 3026, 3031, 3035, 3042, 3069, 3086, 3101, 3106, 3113, 3124, 3128, 3131, 3137, 3139, 3141, 3149, 3155, 3156, 3173, 3178, 3184, 3188, 3197, 3211, 3221, 3244, 3254, 3255, 3257, 3270, 3291, 3308, 3310, 3352, 3353, 3375, 3377, 3399, 3409, 3416, 3438, 3440, 3490, 3501, 3547, 3552, 3560, 3563, 3568, 3570, 3572, 3591, 3593, 3600, 3612, 3622, 3624, 3631, 3648, 3656, 3669, 3677, 3681, 3731, 3732, 3736, 3740, 3741, 3743, 3745, 3751, 3759, 3764, 3778, 3784, 3789, 3791, 3794, 3797, 3799, 3807, 3812, 3818, 3833, 3846, 3851, 3862, 3867, 3868, 3883, 3887, 3893, 3943, 3975, 3977, 3986, 4011, 4022, 4027, 4041, 4048, 4055, 4063, 4070, 4079, 4090, 4123, 4129, 4136, 4148, 4177, 4212, 4217, 4242, 4258, 4264, 4282, 4286, 4287, 4296, 4301, 4303, 4306, 4307, 4338, 4342, 4368, 4373, 4385, 4398, 4406, 4409, 4418, 4430, 4435, 4436, 4454, 4482, 4512, 4515, 4517, 4525, 4564, 4581, 4585, 4606, 4615, 4620, 4652, 4662, 4667, 4672, 4674, 4678, 4681, 4686, 4689, 4700, 4706, 4716, 4718, 4740, 4753, 4754, 4772, 4788, 4805, 4808, 4816, 4833, 4850, 4879, 4896, 4923, 4928, 4932, 4936, 4937, 4939, 4955, 4972, 4973, 4989, 5001, 5007, 5021, 5030, 5033, 5043, 5060, 5062, 5064, 5071, 5077, 5112, 5132, 5134, 5139, 5144, 5147, 5172, 5178, 5199, 5205, 5213, 5218, 5220, 5239, 5242, 5245, 5251, 5258, 5262, 5268, 5270, 5288, 5292, 5301, 5322, 5324, 5340, 5357, 5363, 5365, 5369]\n",
            "500\n"
          ],
          "name": "stdout"
        }
      ]
    },
    {
      "cell_type": "code",
      "metadata": {
        "id": "v887LMr4eqhQ",
        "colab_type": "code",
        "colab": {}
      },
      "source": [
        "call_final = []\n",
        "label_final = []\n",
        "for i in range(len(sample)):\n",
        "  call_final.append(temp_calls[sample[i]])\n",
        "  print(len(temp_calls[sample[i]]))\n",
        "  label_final.append(temp_labels[sample[i]])"
      ],
      "execution_count": 0,
      "outputs": []
    },
    {
      "cell_type": "code",
      "metadata": {
        "id": "qFJ0v1Dbst7X",
        "colab_type": "code",
        "colab": {}
      },
      "source": [
        "rows = index_df.values"
      ],
      "execution_count": 0,
      "outputs": []
    },
    {
      "cell_type": "code",
      "metadata": {
        "id": "z5scfzrCs-w2",
        "colab_type": "code",
        "outputId": "a546b112-af8a-4bf0-b12f-2eb749fc8fc6",
        "colab": {
          "base_uri": "https://localhost:8080/",
          "height": 141
        }
      },
      "source": [
        "print(rows)"
      ],
      "execution_count": 0,
      "outputs": [
        {
          "output_type": "stream",
          "text": [
            "[[   1]\n",
            " [   2]\n",
            " [   3]\n",
            " ...\n",
            " [6849]\n",
            " [6850]\n",
            " [6851]]\n"
          ],
          "name": "stdout"
        }
      ]
    },
    {
      "cell_type": "code",
      "metadata": {
        "id": "ppqo8CHHtwZd",
        "colab_type": "code",
        "colab": {}
      },
      "source": [
        "index_df['label'] = temp_labels\n",
        "index_df['data_unembedded'] = temp_calls"
      ],
      "execution_count": 0,
      "outputs": []
    },
    {
      "cell_type": "code",
      "metadata": {
        "id": "u2JGEnGTt3DE",
        "colab_type": "code",
        "outputId": "eb2c392f-7f83-47b1-ebe8-98caa893b2b8",
        "colab": {
          "base_uri": "https://localhost:8080/",
          "height": 123
        }
      },
      "source": [
        "print(index_df.head())"
      ],
      "execution_count": 0,
      "outputs": [
        {
          "output_type": "stream",
          "text": [
            "   index     label                                    data_unembedded\n",
            "0      1    Trojan  getsystemtimeasfiletime ntallocatevirtualmemor...\n",
            "1      2  Backdoor  ldrgetdllhandle ldrgetprocedureaddress getsyst...\n",
            "2      3  Backdoor  ldrloaddll ldrgetprocedureaddress ldrloaddll l...\n",
            "3      4    Trojan  ldrloaddll ldrgetprocedureaddress ldrgetproced...\n",
            "4      5    Trojan  ntprotectvirtualmemory ntprotectvirtualmemory ...\n"
          ],
          "name": "stdout"
        }
      ]
    },
    {
      "cell_type": "code",
      "metadata": {
        "id": "4e_CR1mst-Is",
        "colab_type": "code",
        "colab": {}
      },
      "source": [
        "working_df = index_df.sample(500).sort_index()"
      ],
      "execution_count": 0,
      "outputs": []
    },
    {
      "cell_type": "code",
      "metadata": {
        "id": "hlsbkrGkuIbO",
        "colab_type": "code",
        "outputId": "a9dfce83-ca0b-433d-f3dd-95c785cd9f0a",
        "colab": {
          "base_uri": "https://localhost:8080/",
          "height": 123
        }
      },
      "source": [
        "print(working_df.head())"
      ],
      "execution_count": 0,
      "outputs": [
        {
          "output_type": "stream",
          "text": [
            "    index     label                                    data_unembedded\n",
            "2       3  Backdoor  ldrloaddll ldrgetprocedureaddress ldrloaddll l...\n",
            "12     17    Trojan  ntallocatevirtualmemory ntallocatevirtualmemor...\n",
            "24     32  Backdoor  ldrloaddll ldrgetprocedureaddress ldrgetproced...\n",
            "32     41    Trojan  regopenkeyexa ntopenkey ntqueryvaluekey ntclos...\n",
            "57     75    Trojan  ldrloaddll ldrgetprocedureaddress ldrloaddll l...\n"
          ],
          "name": "stdout"
        }
      ]
    },
    {
      "cell_type": "code",
      "metadata": {
        "id": "L5GVQb34ujZ0",
        "colab_type": "code",
        "colab": {}
      },
      "source": [
        "temp_calls = working_df['data_unembedded'].values"
      ],
      "execution_count": 0,
      "outputs": []
    },
    {
      "cell_type": "code",
      "metadata": {
        "id": "BIsLlwLRDn_j",
        "colab_type": "code",
        "outputId": "f97fa4b9-283e-4500-d12b-c6314fae1a21",
        "colab": {
          "base_uri": "https://localhost:8080/",
          "height": 214
        }
      },
      "source": [
        "for i in range(5):\n",
        "  print(temp_calls[i])"
      ],
      "execution_count": 0,
      "outputs": [
        {
          "output_type": "stream",
          "text": [
            "ldrloaddll ldrgetprocedureaddress ldrloaddll ldrgetprocedureaddress ldrgetprocedureaddress ldrgetprocedureaddress ldrgetprocedureaddress ldrgetprocedureaddress ldrgetprocedureaddress ldrgetprocedureaddress ldrgetprocedureaddress ldrgetprocedureaddress ldrgetprocedureaddress ldrgetprocedureaddress ldrgetprocedureaddress ldrgetprocedureaddress ldrgetprocedureaddress ldrgetprocedureaddress ldrgetprocedureaddress ldrgetprocedureaddress ldrgetprocedureaddress ldrgetprocedureaddress ldrgetprocedureaddress ldrgetprocedureaddress ldrgetprocedureaddress ldrgetprocedureaddress ldrgetprocedureaddress ldrgetprocedureaddress ldrgetprocedureaddress ldrgetprocedureaddress ldrgetprocedureaddress ldrgetprocedureaddress ldrgetprocedureaddress ldrgetprocedureaddress ldrgetprocedureaddress ldrgetprocedureaddress ldrgetprocedureaddress ldrgetprocedureaddress ldrgetprocedureaddress ldrgetprocedureaddress ldrgetprocedureaddress ldrgetprocedureaddress ldrgetprocedureaddress ldrgetprocedureaddress ldrloaddll ldrgetprocedureaddress ldrgetprocedureaddress ldrgetprocedureaddress ldrgetprocedureaddress ldrloaddll ldrgetprocedureaddress ldrgetprocedureaddress ldrgetprocedureaddress ldrgetprocedureaddress ldrgetprocedureaddress ldrgetprocedureaddress ldrgetprocedureaddress ldrgetprocedureaddress ldrgetprocedureaddress ldrgetprocedureaddress ldrgetprocedureaddress ldrgetprocedureaddress ldrgetprocedureaddress ldrgetprocedureaddress ldrgetprocedureaddress ldrgetprocedureaddress ldrgetprocedureaddress ldrgetprocedureaddress ldrgetprocedureaddress ldrgetprocedureaddress ldrgetprocedureaddress ldrgetprocedureaddress ldrgetprocedureaddress ldrgetprocedureaddress ldrgetprocedureaddress ldrgetprocedureaddress ldrgetprocedureaddress ldrgetprocedureaddress ldrgetprocedureaddress ldrgetprocedureaddress ldrgetprocedureaddress ldrgetprocedureaddress ldrgetprocedureaddress ldrgetprocedureaddress ldrgetprocedureaddress ldrgetprocedureaddress ldrgetprocedureaddress ldrgetprocedureaddress ldrgetprocedureaddress ldrgetprocedureaddress ldrgetprocedureaddress ldrgetprocedureaddress ldrgetprocedureaddress ldrgetprocedureaddress ldrgetprocedureaddress ldrgetprocedureaddress ldrgetprocedureaddress ldrgetprocedureaddress ldrgetprocedureaddress ldrgetprocedureaddress ldrgetprocedureaddress ldrgetprocedureaddress ldrgetprocedureaddress ldrgetprocedureaddress ldrgetprocedureaddress ldrgetprocedureaddress ldrgetprocedureaddress ldrgetprocedureaddress ldrloaddll ldrgetprocedureaddress ldrgetprocedureaddress ldrgetprocedureaddress ldrloaddll ldrgetprocedureaddress ldrgetprocedureaddress ldrgetprocedureaddress ldrloaddll ldrgetprocedureaddress ldrgetprocedureaddress ldrgetprocedureaddress ldrgetprocedureaddress ldrgetprocedureaddress ldrgetprocedureaddress ldrgetprocedureaddress ldrgetprocedureaddress ldrgetprocedureaddress ldrgetprocedureaddress ldrgetprocedureaddress ldrgetprocedureaddress ldrgetprocedureaddress ldrgetprocedureaddress ldrgetprocedureaddress ldrgetprocedureaddress ldrgetprocedureaddress ldrgetprocedureaddress ldrgetprocedureaddress ldrgetprocedureaddress ldrgetprocedureaddress ldrgetprocedureaddress ldrgetprocedureaddress ldrloaddll ldrgetprocedureaddress ldrloaddll ldrgetprocedureaddress ldrgetprocedureaddress ldrgetprocedureaddress ldrgetprocedureaddress ldrgetprocedureaddress ldrgetprocedureaddress ldrgetprocedureaddress ldrgetprocedureaddress ldrgetprocedureaddress ldrgetprocedureaddress ldrgetprocedureaddress ldrgetprocedureaddress ldrgetprocedureaddress ldrgetprocedureaddress ldrgetprocedureaddress ldrgetprocedureaddress ldrgetprocedureaddress ldrgetprocedureaddress ldrgetprocedureaddress ldrgetprocedureaddress ldrgetprocedureaddress ldrgetprocedureaddress ldrgetprocedureaddress ldrgetprocedureaddress ldrgetprocedureaddress ldrgetprocedureaddress ldrgetprocedureaddress ldrgetprocedureaddress ldrgetprocedureaddress ldrgetprocedureaddress ldrgetprocedureaddress ldrgetprocedureaddress ldrgetprocedureaddress ldrgetprocedureaddress ldrgetprocedureaddress ldrgetprocedureaddress ldrgetprocedureaddress ldrgetprocedureaddress ldrgetprocedureaddress ldrgetprocedureaddress ldrgetprocedureaddress ldrgetprocedureaddress ldrgetprocedureaddress ldrgetprocedureaddress ldrgetprocedureaddress ldrgetprocedureaddress ldrgetprocedureaddress ldrgetprocedureaddress ldrgetprocedureaddress ldrgetprocedureaddress ldrgetprocedureaddress ldrgetprocedureaddress ldrgetprocedureaddress ldrgetprocedureaddress ldrgetprocedureaddress ldrgetprocedureaddress ldrgetprocedureaddress ldrgetprocedureaddress ldrgetprocedureaddress ldrgetprocedureaddress ldrgetprocedureaddress ldrgetprocedureaddress ldrgetprocedureaddress ldrgetprocedureaddress ldrgetprocedureaddress ldrgetprocedureaddress ldrgetprocedureaddress ldrgetprocedureaddress ldrgetprocedureaddress ldrloaddll ldrgetprocedureaddress ldrgetprocedureaddress ldrgetprocedureaddress ldrgetprocedureaddress ldrgetprocedureaddress ldrgetprocedureaddress ldrgetprocedureaddress ldrgetprocedureaddress ldrgetprocedureaddress ldrgetprocedureaddress ldrgetprocedureaddress ldrgetprocedureaddress ldrloaddll ldrgetprocedureaddress ldrgetprocedureaddress ldrgetprocedureaddress ldrloaddll ldrgetprocedureaddress ldrgetprocedureaddress ldrgetprocedureaddress ldrgetprocedureaddress ldrgetprocedureaddress ldrgetprocedureaddress ldrgetprocedureaddress ldrgetprocedureaddress ldrgetprocedureaddress ldrgetprocedureaddress ldrgetprocedureaddress ldrgetprocedureaddress ldrgetprocedureaddress ldrgetprocedureaddress ldrgetprocedureaddress ldrgetprocedureaddress ldrgetprocedureaddress ldrgetprocedureaddress ldrgetprocedureaddress ldrgetprocedureaddress ldrgetprocedureaddress ldrgetprocedureaddress ldrgetprocedureaddress ldrgetprocedureaddress ldrgetprocedureaddress ldrgetprocedureaddress ldrgetprocedureaddress ldrgetprocedureaddress ldrgetprocedureaddress ldrgetprocedureaddress ldrgetprocedureaddress ldrgetprocedureaddress ldrgetprocedureaddress ldrgetprocedureaddress ldrgetprocedureaddress ldrgetprocedureaddress ldrgetprocedureaddress ldrgetprocedureaddress ldrgetprocedureaddress ldrgetprocedureaddress ldrgetprocedureaddress ldrgetprocedureaddress ldrgetprocedureaddress ldrgetprocedureaddress ldrgetprocedureaddress ldrgetprocedureaddress ldrgetprocedureaddress ldrgetprocedureaddress ldrgetprocedureaddress ldrgetprocedureaddress ldrgetprocedureaddress ldrgetprocedureaddress ldrgetprocedureaddress ldrgetprocedureaddress ldrgetprocedureaddress ldrgetprocedureaddress ldrgetprocedureaddress ldrgetprocedureaddress ldrgetprocedureaddress ldrgetprocedureaddress ldrgetprocedureaddress ldrgetprocedureaddress ldrgetprocedureaddress ldrgetprocedureaddress ldrgetprocedureaddress ldrgetprocedureaddress ldrgetprocedureaddress ldrgetprocedureaddress ldrgetprocedureaddress ldrgetprocedureaddress ldrgetprocedureaddress ldrgetprocedureaddress ldrgetprocedureaddress ldrgetprocedureaddress ldrgetprocedureaddress ldrgetprocedureaddress ldrgetprocedureaddress ldrgetprocedureaddress ldrgetprocedureaddress ldrgetprocedureaddress ldrgetprocedureaddress ldrgetprocedureaddress ldrgetprocedureaddress ldrgetprocedureaddress ldrgetprocedureaddress ldrgetprocedureaddress ldrgetprocedureaddress ldrgetprocedureaddress ldrgetprocedureaddress ldrgetprocedureaddress ldrgetprocedureaddress ldrgetprocedureaddress ldrgetprocedureaddress ldrgetprocedureaddress ldrgetprocedureaddress ldrgetprocedureaddress ldrgetprocedureaddress ldrgetprocedureaddress ldrgetprocedureaddress ldrgetprocedureaddress ldrgetprocedureaddress ldrgetprocedureaddress ldrgetprocedureaddress ldrgetprocedureaddress ldrgetprocedureaddress ldrgetprocedureaddress ldrgetprocedureaddress ldrgetprocedureaddress ldrgetprocedureaddress ldrgetprocedureaddress ldrgetprocedureaddress ldrgetprocedureaddress ldrgetprocedureaddress ldrgetprocedureaddress ldrgetprocedureaddress ldrgetprocedureaddress ldrgetprocedureaddress ldrgetprocedureaddress ldrgetprocedureaddress ldrgetprocedureaddress ldrgetprocedureaddress ldrgetprocedureaddress ldrgetprocedureaddress ldrgetprocedureaddress ldrgetprocedureaddress ldrgetprocedureaddress ldrgetprocedureaddress ldrgetprocedureaddress ldrgetprocedureaddress ldrgetprocedureaddress ldrgetprocedureaddress ldrgetprocedureaddress ldrgetprocedureaddress ldrgetprocedureaddress ldrgetprocedureaddress ldrgetprocedureaddress ldrgetprocedureaddress ldrgetprocedureaddress ldrgetprocedureaddress ldrgetprocedureaddress ldrgetprocedureaddress ldrgetprocedureaddress ldrgetprocedureaddress ldrgetprocedureaddress ldrgetprocedureaddress ldrgetprocedureaddress ldrgetprocedureaddress ldrgetprocedureaddress ldrgetprocedureaddress ldrgetprocedureaddress ldrgetprocedureaddress ldrgetprocedureaddress ldrgetprocedureaddress ldrgetprocedureaddress ldrgetprocedureaddress ldrgetprocedureaddress ldrgetprocedureaddress ldrgetprocedureaddress ldrgetprocedureaddress ldrgetprocedureaddress ldrgetprocedureaddress ldrloaddll ldrgetprocedureaddress ldrgetprocedureaddress ldrgetprocedureaddress ldrgetprocedureaddress regopenkeyexa regopenkeyexa regopenkeyexa ntopenkey ntqueryvaluekey ntclose ntopenkey ntqueryvaluekey ntclose ntclose ntqueryattributesfile ntqueryattributesfile ntqueryattributesfile ntqueryattributesfile loadstringa ntallocatevirtualmemory ntallocatevirtualmemory loadstringa loadstringa loadstringa loadstringa loadstringa loadstringa loadstringa loadstringa loadstringa loadstringa loadstringa loadstringa loadstringa loadstringa loadstringa loadstringa loadstringa loadstringa loadstringa loadstringa loadstringa loadstringa loadstringa loadstringa loadstringa loadstringa loadstringa loadstringa loadstringa loadstringa ldrgetdllhandle ldrgetprocedureaddress ldrgetdllhandle loadstringa loadstringa loadstringa loadstringa loadstringa loadstringa loadstringa loadstringa loadstringa loadstringa loadstringa loadstringa loadstringa loadstringa loadstringa loadstringa loadstringa loadstringa ldrgetprocedureaddress ldrgetprocedureaddress getsystemmetrics getsystemmetrics findresourceexw loadresource findresourceexw loadresource findresourceexw loadresource findresourceexw loadresource findresourceexw loadresource findresourceexw loadresource findresourceexw loadresource findresourceexw loadresource findresourceexw loadresource findresourceexw loadresource findresourceexw loadresource findresourceexw loadresource findresourceexw loadresource findresourceexw loadresource ldrgetprocedureaddress findresourceexw loadresource findresourceexw loadresource ntallocatevirtualmemory getsystemmetrics getsystemmetrics ntclose ntclose getsystemmetrics ntallocatevirtualmemory getsystemmetrics getsystemmetrics ldrloaddll ldrgetprocedureaddress ldrgetdllhandle findresourceexw loadresource findresourceexw loadresource drawtextexw getsystemmetrics getsystemmetrics getsystemmetrics getsystemmetrics getsystemmetrics getsystemmetrics getsystemmetrics getsystemmetrics findresourceexw loadresource getsystemmetrics getsystemmetrics drawtextexw ldrgetdllhandle findresourceexw loadresource findresourceexw loadresource findresourceexw loadresource ldrgetdllhandle ldrgetprocedureaddress ldrgetdllhandle ldrgetprocedureaddress ldrgetprocedureaddress ldrgetprocedureaddress ldrgetprocedureaddress ldrgetprocedureaddress ldrgetprocedureaddress ldrgetprocedureaddress ldrgetprocedureaddress ldrgetprocedureaddress ldrgetprocedureaddress ldrgetprocedureaddress ldrgetprocedureaddress ldrgetdllhandle ldrgetprocedureaddress getsystemmetrics getsystemmetrics findresourcea findresourcea loadresource sizeofresource ntallocatevirtualmemory ntallocatevirtualmemory ntallocatevirtualmemory ldrloaddll ldrgetprocedureaddress ldrgetprocedureaddress getsystemwindowsdirectoryw ntcreatefile ntcreatesection ntmapviewofsection ntclose ntclose getsystemmetrics getsystemmetrics ntallocatevirtualmemory getsystemmetrics getsystemmetrics getsystemmetrics getsystemmetrics findresourceexw loadresource findresourceexw loadresource getsystemmetrics getsystemmetrics getsystemmetrics getsystemmetrics getsystemmetrics getsystemmetrics ldrgetdllhandle findresourceexw loadresource findresourceexw loadresource regopenkeyexw regopenkeyexw regclosekey ldrgetprocedureaddress regopenkeyexw regopenkeyexw regclosekey getsystemmetrics ntallocatevirtualmemory getsystemmetrics getsystemmetrics getsystemmetrics getsystemmetrics getsystemmetrics getsystemmetrics getsystemmetrics getsystemmetrics getsystemmetrics ntallocatevirtualmemory findresourceexw loadresource findresourceexw loadresource getsystemmetrics getsystemmetrics getsystemmetrics drawtextexa drawtextexa drawtextexa drawtextexa drawtextexa drawtextexa drawtextexa drawtextexa drawtextexa drawtextexa drawtextexa drawtextexa drawtextexa drawtextexa drawtextexa drawtextexa drawtextexa drawtextexa drawtextexa ntdelayexecution getsystemmetrics getsystemmetrics findresourcea findresourcea loadresource sizeofresource getsystemmetrics getsystemmetrics getsystemmetrics getsystemmetrics getsystemmetrics getsystemmetrics ldrgetdllhandle findresourceexw loadresource findresourceexw loadresource drawtextexa ntdelayexecution ldrgetprocedureaddress getsystemmetrics getsystemmetrics getsystemmetrics getsystemmetrics getsystemmetrics getsystemmetrics getsystemmetrics getsystemmetrics getsystemmetrics getsystemmetrics getsystemmetrics getsystemmetrics getsystemmetrics getsystemmetrics getsystemmetrics getsystemmetrics drawtextexw getsystemmetrics getsystemmetrics getsystemmetrics getsystemmetrics getsystemmetrics getsystemmetrics getsystemmetrics getsystemmetrics getsystemmetrics getsystemmetrics getsystemmetrics getsystemmetrics ntclose ntclose regopenkeyexw getsystemdirectoryw ldrloaddll ldrgetprocedureaddress ldrgetprocedureaddress coinitializeex ldrgetprocedureaddress ldrgetprocedureaddress ntclose ntclose regopenkeyexw regqueryvalueexw regclosekey ntclose ntclose ntclose ntclose ntclose ntopenmutant ntclose ntopensection ntmapviewofsection ntunmapviewofsection ntclose regopenkeyexw regenumkeyexw regopenkeyexw regenumkeyexw regopenkeyexw regenumkeyexw regopenkeyexw regenumkeyexw regopenkeyexw regenumkeyexw regenumkeyexw regclosekey regenumkeyexw regopenkeyexw regenumkeyexw regopenkeyexw regenumkeyexw regenumkeyexw regenumkeyexw regenumkeyexw regenumkeyexw regenumkeyexw regenumkeyexw regclosekey regenumkeyexw regopenkeyexw regenumkeyexw regopenkeyexw regenumkeyexw regopenkeyexw regenumkeyexw regopenkeyexw regenumkeyexw regopenkeyexw regenumkeyexw regopenkeyexw regenumkeyexw regopenkeyexw regenumkeyexw regopenkeyexw regenumkeyexw regopenkeyexw regenumkeyexw regclosekey ntclose ntopenkey regopenkeyexw regclosekey regqueryvalueexw regqueryvalueexw regqueryvalueexw getsystemmetrics regclosekey getsystemmetrics loadstringw loadstringw loadstringw ntopensection ntmapviewofsection ntunmapviewofsection ntclose loadstringw loadstringw ntclose ntopenkey regopenkeyexw regclosekey regenumkeyexw regclosekey regopenkeyexw regqueryvalueexw regclosekey regopenkeyexw ldrgetdllhandle findresourceexw findresourceexw drawtextexa drawtextexa drawtextexa drawtextexa drawtextexa drawtextexa drawtextexa drawtextexa drawtextexa drawtextexa drawtextexa drawtextexa drawtextexa drawtextexa drawtextexa drawtextexa drawtextexa drawtextexa drawtextexa drawtextexa drawtextexa drawtextexa drawtextexa drawtextexa getcursorpos getcursorpos getcursorpos getcursorpos getcursorpos getcursorpos getcursorpos getcursorpos getcursorpos getcursorpos getcursorpos getcursorpos getcursorpos getcursorpos getcursorpos getcursorpos getcursorpos getcursorpos getcursorpos getcursorpos getcursorpos getcursorpos getcursorpos getcursorpos getcursorpos getcursorpos getforegroundwindow getcursorpos getforegroundwindow getkeystate getcursorpos getforegroundwindow getcursorpos getforegroundwindow getcursorpos getforegroundwindow getcursorpos getforegroundwindow getcursorpos getcursorpos getcursorpos getcursorpos getcursorpos getcursorpos getcursorpos getcursorpos getforegroundwindow getcursorpos getforegroundwindow getkeystate getcursorpos getforegroundwindow getcursorpos getforegroundwindow getcursorpos getforegroundwindow getcursorpos getforegroundwindow getcursorpos getforegroundwindow getcursorpos getcursorpos getcursorpos getcursorpos getcursorpos getcursorpos getcursorpos getcursorpos getcursorpos getcursorpos getcursorpos getcursorpos getcursorpos getcursorpos getcursorpos getcursorpos getcursorpos getcursorpos getcursorpos getcursorpos getcursorpos getcursorpos getcursorpos getcursorpos getforegroundwindow getcursorpos getforegroundwindow getkeystate getcursorpos getforegroundwindow getcursorpos getforegroundwindow getcursorpos getforegroundwindow getcursorpos getforegroundwindow getcursorpos getforegroundwindow getcursorpos getcursorpos getcursorpos getcursorpos getcursorpos getcursorpos getcursorpos getcursorpos getcursorpos getcursorpos getcursorpos getcursorpos getcursorpos getcursorpos getcursorpos getcursorpos getcursorpos getcursorpos getcursorpos getcursorpos getcursorpos getcursorpos getcursorpos getcursorpos getcursorpos getcursorpos getcursorpos getcursorpos getcursorpos getcursorpos getcursorpos getcursorpos getcursorpos getcursorpos getcursorpos getcursorpos getcursorpos getcursorpos getcursorpos getcursorpos getcursorpos getcursorpos getcursorpos getcursorpos getcursorpos getcursorpos getcursorpos getcursorpos getcursorpos getcursorpos getcursorpos getcursorpos getcursorpos getcursorpos getcursorpos getcursorpos getcursorpos getcursorpos getcursorpos getcursorpos getcursorpos getcursorpos getcursorpos getcursorpos getcursorpos getcursorpos getcursorpos getcursorpos getcursorpos getcursorpos getcursorpos getcursorpos getcursorpos getcursorpos getcursorpos getcursorpos getcursorpos getcursorpos getcursorpos getcursorpos getcursorpos getcursorpos getcursorpos getcursorpos getcursorpos getcursorpos getcursorpos getcursorpos getcursorpos getcursorpos getcursorpos getcursorpos getcursorpos getcursorpos getcursorpos getcursorpos getcursorpos getcursorpos getcursorpos getcursorpos getcursorpos getcursorpos getcursorpos getcursorpos getcursorpos getcursorpos getcursorpos getcursorpos getcursorpos getcursorpos getcursorpos getcursorpos getcursorpos getcursorpos getcursorpos getcursorpos getcursorpos getcursorpos getcursorpos getcursorpos\n",
            "\n",
            "ntallocatevirtualmemory ntallocatevirtualmemory ntfreevirtualmemory ldrgetdllhandle ldrgetprocedureaddress ldrgetprocedureaddress ntallocatevirtualmemory ntfreevirtualmemory ntallocatevirtualmemory ntfreevirtualmemory ntallocatevirtualmemory ntfreevirtualmemory ntallocatevirtualmemory ntfreevirtualmemory ntallocatevirtualmemory ntfreevirtualmemory ldrgetdllhandle ldrgetprocedureaddress ldrgetprocedureaddress ldrgetprocedureaddress ldrgetprocedureaddress ldrgetprocedureaddress ldrgetprocedureaddress ldrgetprocedureaddress ldrgetprocedureaddress ldrgetprocedureaddress ldrgetprocedureaddress ldrgetprocedureaddress ldrgetprocedureaddress ldrgetprocedureaddress ldrgetprocedureaddress ldrgetprocedureaddress ldrgetprocedureaddress ldrgetprocedureaddress ldrgetprocedureaddress ldrgetprocedureaddress ldrgetprocedureaddress ldrgetprocedureaddress ldrgetprocedureaddress ldrgetprocedureaddress ldrgetprocedureaddress ldrgetprocedureaddress ldrgetprocedureaddress ldrgetprocedureaddress ldrgetprocedureaddress ldrgetprocedureaddress ldrgetprocedureaddress ldrgetprocedureaddress ldrgetprocedureaddress ldrgetprocedureaddress ldrgetprocedureaddress ldrgetprocedureaddress ldrgetprocedureaddress ldrgetprocedureaddress ldrgetprocedureaddress ldrgetprocedureaddress ldrgetprocedureaddress ldrgetprocedureaddress ldrgetdllhandle ldrgetprocedureaddress ldrgetprocedureaddress ldrgetprocedureaddress ldrgetprocedureaddress ldrgetdllhandle ldrgetprocedureaddress ldrgetprocedureaddress ldrgetprocedureaddress ldrgetdllhandle ldrgetprocedureaddress ldrgetprocedureaddress ldrgetprocedureaddress ldrgetprocedureaddress ldrgetprocedureaddress ldrgetprocedureaddress ldrgetdllhandle ldrgetprocedureaddress ldrgetprocedureaddress ldrgetprocedureaddress ldrgetprocedureaddress ldrgetprocedureaddress ldrgetprocedureaddress ldrgetprocedureaddress ldrgetdllhandle ldrgetprocedureaddress ldrgetprocedureaddress ldrgetprocedureaddress ldrgetprocedureaddress ldrgetprocedureaddress ldrgetprocedureaddress ldrgetprocedureaddress ldrgetdllhandle ldrgetprocedureaddress ldrgetprocedureaddress ldrgetprocedureaddress ldrgetprocedureaddress ldrgetprocedureaddress ldrgetprocedureaddress ldrgetprocedureaddress ldrgetprocedureaddress ldrgetprocedureaddress ldrgetprocedureaddress ldrgetprocedureaddress ldrgetprocedureaddress ldrgetprocedureaddress ldrgetprocedureaddress ldrgetprocedureaddress ldrgetprocedureaddress ldrgetprocedureaddress ldrgetprocedureaddress ldrgetprocedureaddress ldrgetprocedureaddress ldrgetprocedureaddress ldrgetprocedureaddress ldrgetprocedureaddress ldrgetprocedureaddress ldrgetprocedureaddress ldrgetprocedureaddress ldrgetprocedureaddress ldrgetprocedureaddress ldrgetprocedureaddress ldrgetprocedureaddress ldrgetprocedureaddress ldrgetprocedureaddress ldrgetdllhandle ldrgetdllhandle ldrloaddll ldrgetprocedureaddress ldrgetprocedureaddress ldrgetprocedureaddress ldrgetdllhandle ldrgetprocedureaddress ldrgetprocedureaddress ldrgetprocedureaddress ldrgetprocedureaddress ldrgetprocedureaddress ldrgetprocedureaddress ldrgetprocedureaddress ldrgetprocedureaddress ldrgetprocedureaddress ldrgetprocedureaddress ldrgetprocedureaddress ldrgetprocedureaddress ldrgetprocedureaddress ldrgetprocedureaddress ldrgetprocedureaddress ldrgetprocedureaddress ldrgetprocedureaddress ldrgetdllhandle ldrgetprocedureaddress ldrgetdllhandle ldrgetprocedureaddress ldrgetdllhandle ldrgetdllhandle getsysteminfo ldrloaddll ldrgetprocedureaddress ldrgetprocedureaddress ldrgetprocedureaddress ldrgetprocedureaddress ldrgetprocedureaddress ldrgetprocedureaddress ldrgetprocedureaddress ldrgetprocedureaddress ldrgetprocedureaddress ldrgetprocedureaddress ldrgetprocedureaddress ldrgetprocedureaddress regopenkeyexa regopenkeyexa ntopenkey ntqueryvaluekey ntclose ntopenkey ntqueryvaluekey ntclose ntclose loadstringa loadstringa loadstringa loadstringa loadstringa loadstringa loadstringa loadstringa loadstringa loadstringa loadstringa loadstringa loadstringa loadstringa loadstringa loadstringa loadstringa loadstringa loadstringa loadstringa loadstringa loadstringa loadstringa loadstringa loadstringa loadstringa loadstringa loadstringa loadstringa loadstringa ntallocatevirtualmemory ntallocatevirtualmemory loadstringa getsystemmetrics getsystemmetrics ldrgetdllhandle ldrgetprocedureaddress wsastartup __exception__ __exception__ ntallocatevirtualmemory ldrgetdllhandle ldrgetprocedureaddress ldrgetprocedureaddress ldrgetprocedureaddress ldrgetprocedureaddress ldrgetprocedureaddress ldrgetprocedureaddress ldrgetprocedureaddress ldrgetprocedureaddress ldrgetprocedureaddress ldrgetprocedureaddress ldrgetprocedureaddress ldrgetprocedureaddress ldrgetprocedureaddress ldrgetprocedureaddress ldrloaddll ldrloaddll ldrgetprocedureaddress ldrgetprocedureaddress ldrgetprocedureaddress ldrgetprocedureaddress ntallocatevirtualmemory ntallocatevirtualmemory ldrgetprocedureaddress ldrgetprocedureaddress ldrgetprocedureaddress ldrgetprocedureaddress ldrgetprocedureaddress ldrgetprocedureaddress ldrgetprocedureaddress ntallocatevirtualmemory __exception__ ntfreevirtualmemory __exception__ ntallocatevirtualmemory ntfreevirtualmemory __exception__ __exception__ __exception__ ntallocatevirtualmemory ntfreevirtualmemory __exception__ ntallocatevirtualmemory ntallocatevirtualmemory ntfreevirtualmemory ntfreevirtualmemory ntfreevirtualmemory ntallocatevirtualmemory ntfreevirtualmemory ntallocatevirtualmemory ntfreevirtualmemory ntallocatevirtualmemory ntfreevirtualmemory ntallocatevirtualmemory ntfreevirtualmemory __exception__ ldrgetprocedureaddress ldrgetprocedureaddress ldrgetprocedureaddress ldrgetprocedureaddress ldrgetprocedureaddress ldrgetprocedureaddress ldrgetprocedureaddress __exception__ ldrgetprocedureaddress ldrgetprocedureaddress ldrgetprocedureaddress ldrgetprocedureaddress ldrgetprocedureaddress ldrgetprocedureaddress ldrgetprocedureaddress __exception__ ntallocatevirtualmemory ldrloaddll ldrgetprocedureaddress ldrloaddll ldrgetprocedureaddress ldrloaddll ldrgetprocedureaddress ldrloaddll ldrgetprocedureaddress ldrloaddll ldrgetprocedureaddress ldrloaddll ldrgetprocedureaddress ldrloaddll ldrgetprocedureaddress ldrloaddll ldrgetprocedureaddress ldrloaddll ldrgetprocedureaddress ldrloaddll ldrgetprocedureaddress ldrloaddll ldrgetprocedureaddress ldrloaddll ldrgetprocedureaddress ldrloaddll ldrgetprocedureaddress ldrloaddll ldrgetprocedureaddress ldrloaddll ldrgetprocedureaddress ldrloaddll ldrgetprocedureaddress ldrloaddll ldrgetprocedureaddress ldrloaddll ldrgetprocedureaddress ldrloaddll ldrgetprocedureaddress ldrloaddll ldrgetprocedureaddress ldrloaddll ldrgetprocedureaddress ldrloaddll ldrgetprocedureaddress ldrloaddll ldrgetprocedureaddress ldrloaddll ldrgetprocedureaddress ldrloaddll ldrgetprocedureaddress ldrloaddll ldrgetprocedureaddress ldrloaddll ldrgetprocedureaddress ldrloaddll ldrgetprocedureaddress ldrloaddll ldrgetprocedureaddress ldrloaddll ldrgetprocedureaddress ldrloaddll ldrgetprocedureaddress ldrloaddll ldrgetprocedureaddress ldrloaddll ldrgetprocedureaddress ldrloaddll ldrgetprocedureaddress ldrloaddll ldrgetprocedureaddress ldrloaddll ldrgetprocedureaddress ldrloaddll ldrgetprocedureaddress ldrloaddll ldrgetprocedureaddress ldrloaddll ldrgetprocedureaddress ldrloaddll ldrgetprocedureaddress ldrloaddll ldrgetprocedureaddress ldrloaddll ldrgetprocedureaddress ldrloaddll ldrgetprocedureaddress ldrloaddll ldrgetprocedureaddress ldrloaddll ldrgetprocedureaddress ldrloaddll ldrgetprocedureaddress ldrloaddll ldrgetprocedureaddress ldrloaddll ldrgetprocedureaddress ldrloaddll ldrgetprocedureaddress ldrloaddll ldrgetprocedureaddress ldrloaddll ldrgetprocedureaddress ldrloaddll ldrgetprocedureaddress ldrloaddll ldrgetprocedureaddress ldrloaddll ldrgetprocedureaddress ldrloaddll ldrgetprocedureaddress ldrloaddll ldrgetprocedureaddress ldrloaddll ldrgetprocedureaddress ldrloaddll ldrgetprocedureaddress ldrloaddll ldrgetprocedureaddress ldrloaddll ldrgetprocedureaddress ldrloaddll ldrgetprocedureaddress ldrloaddll ldrgetprocedureaddress ldrloaddll ldrgetprocedureaddress ldrloaddll ldrgetprocedureaddress ldrloaddll ldrgetprocedureaddress ldrloaddll ldrgetprocedureaddress ldrloaddll ldrgetprocedureaddress ldrloaddll ldrgetprocedureaddress ldrloaddll ldrgetprocedureaddress ldrloaddll ldrgetprocedureaddress ldrloaddll ldrgetprocedureaddress ldrloaddll ldrgetprocedureaddress __exception__ ntallocatevirtualmemory ntallocatevirtualmemory ntallocatevirtualmemory ntallocatevirtualmemory ntallocatevirtualmemory __exception__ __exception__ __exception__ ntallocatevirtualmemory ntallocatevirtualmemory ntallocatevirtualmemory __exception__ __exception__ ntallocatevirtualmemory ntallocatevirtualmemory ntallocatevirtualmemory ntfreevirtualmemory __exception__ ntcreatefile ntcreatefile ntcreatefile ntcreatefile ntcreatefile ntcreatefile ntcreatefile ntcreatefile ntcreatefile ntcreatefile ntcreatefile ntcreatefile ntcreatefile ntcreatefile ntcreatefile ntcreatefile ntcreatefile ntcreatefile ntcreatefile ntcreatefile ntcreatefile ntcreatefile ntcreatefile ntcreatefile ntcreatefile ntcreatefile ntcreatefile ntcreatefile ntcreatefile ntcreatefile ntcreatefile ntcreatefile ntcreatefile ntcreatefile ntcreatefile ntcreatefile ntcreatefile ntcreatefile ntcreatefile ntcreatefile ntcreatefile ntcreatefile ntcreatefile ntcreatefile ntcreatefile ntcreatefile ntcreatefile ntcreatefile ntcreatefile ntcreatefile ntcreatefile ntcreatefile ntcreatefile ntcreatefile ntcreatefile ntcreatefile ntcreatefile ntcreatefile ntcreatefile ntcreatefile ntcreatefile ntcreatefile ntcreatefile ntcreatefile ntcreatefile ntcreatefile ntcreatefile ntcreatefile ntcreatefile ntcreatefile ntcreatefile ntcreatefile ntcreatefile ntcreatefile ntcreatefile ntcreatefile ntcreatefile ntcreatefile ntcreatefile ntcreatefile ntcreatefile ntclose ntopenfile ntqueryinformationfile ntclose getdiskfreespacew ntopenfile ntqueryinformationfile ntclose getdiskfreespacew __exception__ ntallocatevirtualmemory ntallocatevirtualmemory ntallocatevirtualmemory __exception__ __exception__ __exception__ ntclose ntopenkey regcreatekeyexa regopenkeyexa __exception__ ntfreevirtualmemory ntallocatevirtualmemory __exception__ ntallocatevirtualmemory ntfreevirtualmemory ntfreevirtualmemory __exception__ ntfreevirtualmemory ldrloaddll ntallocatevirtualmemory ntallocatevirtualmemory ldrloaddll ntallocatevirtualmemory ntallocatevirtualmemory ldrloaddll ntallocatevirtualmemory ntallocatevirtualmemory ldrloaddll ntallocatevirtualmemory ntallocatevirtualmemory regopenkeyexa regopenkeyexa ldrloaddll ntallocatevirtualmemory ntallocatevirtualmemory ldrloaddll ntallocatevirtualmemory ntallocatevirtualmemory ldrloaddll ntallocatevirtualmemory ntallocatevirtualmemory ntqueryattributesfile ntqueryattributesfile ntqueryattributesfile ntqueryattributesfile ldrloaddll ntallocatevirtualmemory ntallocatevirtualmemory ldrloaddll ntallocatevirtualmemory ntallocatevirtualmemory ldrloaddll ntallocatevirtualmemory ntallocatevirtualmemory loadstringa ntallocatevirtualmemory ntallocatevirtualmemory loadstringa loadstringa loadstringa loadstringa loadstringa loadstringa loadstringa loadstringa loadstringa loadstringa loadstringa loadstringa loadstringa loadstringa loadstringa loadstringa loadstringa loadstringa loadstringa loadstringa loadstringa loadstringa loadstringa loadstringa loadstringa loadstringa loadstringa loadstringa loadstringa loadstringa ldrloaddll ntallocatevirtualmemory ntallocatevirtualmemory getsystemmetrics getsystemmetrics ldrloaddll ntallocatevirtualmemory ntallocatevirtualmemory ldrgetdllhandle ldrgetprocedureaddress ldrloaddll ntallocatevirtualmemory ntallocatevirtualmemory findwindowa ldrloaddll ntallocatevirtualmemory ntallocatevirtualmemory ntclose ntfreevirtualmemory ntfreevirtualmemory ntterminateprocess ntterminateprocess ntclose ntclose ntclose ntclose ldrunloaddll ntopenkey ntqueryvaluekey ntclose ntclose ntclose ntclose ntterminateprocess\n",
            "\n",
            "ldrloaddll ldrgetprocedureaddress ldrgetprocedureaddress ldrgetprocedureaddress ldrgetprocedureaddress ldrgetprocedureaddress ldrgetprocedureaddress ldrgetprocedureaddress ldrgetprocedureaddress ldrgetprocedureaddress ldrgetprocedureaddress ldrgetprocedureaddress ldrgetprocedureaddress ldrgetprocedureaddress ldrgetprocedureaddress ldrgetprocedureaddress ldrgetprocedureaddress ldrgetprocedureaddress ldrgetprocedureaddress ldrgetprocedureaddress ldrgetprocedureaddress ldrgetprocedureaddress ldrgetprocedureaddress ldrgetprocedureaddress ldrgetprocedureaddress ldrgetprocedureaddress ldrgetprocedureaddress ldrgetprocedureaddress ldrgetprocedureaddress ldrgetprocedureaddress ldrgetprocedureaddress ldrgetprocedureaddress ldrgetprocedureaddress ldrgetprocedureaddress ldrgetprocedureaddress ldrgetprocedureaddress ldrgetprocedureaddress ldrgetprocedureaddress ldrgetprocedureaddress ldrgetprocedureaddress ldrgetprocedureaddress ldrgetprocedureaddress ldrgetprocedureaddress ldrgetprocedureaddress ldrgetprocedureaddress ldrgetprocedureaddress ldrgetprocedureaddress ldrloaddll ldrgetprocedureaddress ldrgetprocedureaddress ldrgetprocedureaddress ldrgetprocedureaddress ldrgetprocedureaddress ldrgetprocedureaddress ldrgetprocedureaddress ldrgetprocedureaddress ldrgetprocedureaddress ldrgetprocedureaddress ldrgetprocedureaddress ldrloaddll ldrgetprocedureaddress ldrgetprocedureaddress ldrgetprocedureaddress ldrgetprocedureaddress ldrgetprocedureaddress ldrgetdllhandle ldrgetprocedureaddress ldrgetprocedureaddress globalmemorystatus ntallocatevirtualmemory ntallocatevirtualmemory ntallocatevirtualmemory ntallocatevirtualmemory ntallocatevirtualmemory ntallocatevirtualmemory ntallocatevirtualmemory ntallocatevirtualmemory ntallocatevirtualmemory ntallocatevirtualmemory ntallocatevirtualmemory ntallocatevirtualmemory ntallocatevirtualmemory ntallocatevirtualmemory ntallocatevirtualmemory ntallocatevirtualmemory ntallocatevirtualmemory getfiletype getfiletype getfiletype ntclose ldrloaddll ntquerysysteminformation regopenkeyexa regqueryvalueexa regclosekey ntopenkey ntqueryvaluekey ntclose ntopenkey ntqueryvaluekey ntclose ntopenkey ntqueryvaluekey ntclose regopenkeyexw globalmemorystatusex ntopenkey ntopenkey ntqueryvaluekey ntclose ntduplicateobject getsystemtimeasfiletime ntcreatethreadex ntduplicateobject ntresumethread openscmanagera ntterminateprocess ntterminateprocess ntclose ldrunloaddll ntopenkey ntqueryvaluekey ntclose ntclose ntclose ntclose ntclose ntterminateprocess\n",
            "\n",
            "regopenkeyexa ntopenkey ntqueryvaluekey ntclose ntopenkey ntqueryvaluekey ntclose ntclose ntqueryattributesfile ntqueryattributesfile ntqueryattributesfile ntqueryattributesfile loadstringa ntallocatevirtualmemory ntallocatevirtualmemory loadstringa loadstringa loadstringa loadstringa loadstringa loadstringa loadstringa loadstringa loadstringa loadstringa loadstringa loadstringa loadstringa loadstringa loadstringa loadstringa loadstringa loadstringa loadstringa loadstringa loadstringa loadstringa loadstringa loadstringa loadstringa loadstringa loadstringa loadstringa loadstringa loadstringa loadstringa getsystemmetrics loadstringa loadstringa loadstringa loadstringa loadstringa loadstringa loadstringa loadstringa loadstringa loadstringa loadstringa loadstringa loadstringa loadstringa loadstringa loadstringa loadstringa loadstringa findresourceexw loadresource findresourceexw loadresource findresourceexw loadresource findresourceexw loadresource findresourceexw loadresource findresourceexw loadresource findresourceexw loadresource findresourceexw loadresource findresourceexw loadresource findresourceexw loadresource findresourceexw loadresource findresourceexw loadresource findresourceexw loadresource findresourceexw loadresource ntallocatevirtualmemory ldrloaddll ldrgetprocedureaddress ldrgetprocedureaddress getsystemwindowsdirectoryw ntcreatefile ntcreatesection ntmapviewofsection ntclose ntclose findresourceexw loadresource findresourceexw loadresource ntallocatevirtualmemory getsystemmetrics getsystemmetrics ntclose ntclose getsystemmetrics ntallocatevirtualmemory getsystemmetrics getsystemmetrics ldrloaddll ldrgetprocedureaddress ldrgetdllhandle findresourceexw loadresource findresourceexw loadresource drawtextexw getsystemmetrics getsystemmetrics getsystemmetrics getsystemmetrics getsystemmetrics getsystemmetrics getsystemmetrics getsystemmetrics findresourceexw loadresource getsystemmetrics getsystemmetrics drawtextexw findresourceexw loadresource findresourcea findresourcea loadresource sizeofresource ntallocatevirtualmemory loadstringa loadstringa loadstringa loadstringa ntallocatevirtualmemory ntallocatevirtualmemory getsystemmetrics getsystemmetrics getsystemmetrics getsystemmetrics getsystemmetrics getsystemmetrics getsystemmetrics getsystemmetrics getsystemmetrics getsystemmetrics getsystemmetrics getsystemmetrics getsystemmetrics getsystemmetrics getsystemmetrics getsystemmetrics getsystemmetrics getsystemmetrics getsystemmetrics getsystemmetrics ntallocatevirtualmemory createactctxw getsystemwindowsdirectoryw createactctxw ldrgetdllhandle ldrgetprocedureaddress ldrloaddll ldrgetprocedureaddress ldrgetprocedureaddress ldrgetprocedureaddress ldrgetprocedureaddress ldrgetprocedureaddress ldrgetprocedureaddress ldrgetprocedureaddress ldrgetprocedureaddress ldrgetprocedureaddress ldrgetprocedureaddress ldrgetprocedureaddress ldrgetprocedureaddress ldrgetprocedureaddress ldrgetprocedureaddress ldrloaddll ldrgetprocedureaddress drawtextexw getsystemmetrics getsystemmetrics getsystemmetrics getsystemmetrics getsystemmetrics getsystemmetrics getsystemmetrics getsystemmetrics getsystemmetrics getsystemmetrics drawtextexw getsystemmetrics getsystemmetrics getsystemmetrics getsystemmetrics getsystemmetrics getsystemmetrics getsystemmetrics getsystemmetrics getsystemmetrics getsystemmetrics ldrgetprocedureaddress drawtextexw getsystemmetrics getsystemmetrics getsystemmetrics getsystemmetrics getsystemmetrics getsystemmetrics getsystemmetrics getsystemmetrics getsystemmetrics getsystemmetrics drawtextexw getsystemmetrics getsystemmetrics getsystemmetrics getsystemmetrics getsystemmetrics getsystemmetrics getsystemmetrics getsystemmetrics getsystemmetrics getsystemmetrics findresourceexw loadresource drawtextexw getsystemmetrics getsystemmetrics getsystemmetrics getsystemmetrics getsystemmetrics getsystemmetrics getsystemmetrics getsystemmetrics getsystemmetrics getsystemmetrics drawtextexw getsystemmetrics getsystemmetrics getsystemmetrics getsystemmetrics getsystemmetrics getsystemmetrics getsystemmetrics getsystemmetrics getsystemmetrics getsystemmetrics drawtextexw getsystemmetrics getsystemmetrics getsystemmetrics getsystemmetrics getsystemmetrics getsystemmetrics getsystemmetrics getsystemmetrics getsystemmetrics getsystemmetrics drawtextexw getsystemmetrics getsystemmetrics getsystemmetrics getsystemmetrics getsystemmetrics getsystemmetrics getsystemmetrics getsystemmetrics getsystemmetrics getsystemmetrics drawtextexw getsystemmetrics getsystemmetrics getsystemmetrics getsystemmetrics getsystemmetrics getsystemmetrics getsystemmetrics getsystemmetrics getsystemmetrics getsystemmetrics drawtextexw getsystemmetrics getsystemmetrics getsystemmetrics getsystemmetrics getsystemmetrics getsystemmetrics getsystemmetrics getsystemmetrics getsystemmetrics getsystemmetrics drawtextexw getsystemmetrics getsystemmetrics getsystemmetrics getsystemmetrics getsystemmetrics getsystemmetrics getsystemmetrics getsystemmetrics getsystemmetrics getsystemmetrics drawtextexw drawtextexw getsystemmetrics getsystemmetrics getsystemmetrics getsystemmetrics getsystemmetrics getsystemmetrics getsystemmetrics getsystemmetrics getsystemmetrics getsystemmetrics drawtextexw getsystemmetrics getsystemmetrics getsystemmetrics getsystemmetrics getsystemmetrics getsystemmetrics getsystemmetrics getsystemmetrics getsystemmetrics getsystemmetrics drawtextexw getsystemmetrics getsystemmetrics getsystemmetrics getsystemmetrics getsystemmetrics getsystemmetrics getsystemmetrics getsystemmetrics getsystemmetrics getsystemmetrics drawtextexw getsystemmetrics getsystemmetrics getsystemmetrics getsystemmetrics getsystemmetrics getsystemmetrics getsystemmetrics getsystemmetrics getsystemmetrics getsystemmetrics drawtextexw getsystemmetrics getsystemmetrics getsystemmetrics getsystemmetrics getsystemmetrics getsystemmetrics getsystemmetrics getsystemmetrics getsystemmetrics getsystemmetrics drawtextexw getsystemmetrics getsystemmetrics getsystemmetrics getsystemmetrics getsystemmetrics getsystemmetrics getsystemmetrics getsystemmetrics getsystemmetrics getsystemmetrics drawtextexw getsystemmetrics getsystemmetrics getsystemmetrics getsystemmetrics getsystemmetrics getsystemmetrics getsystemmetrics getsystemmetrics getsystemmetrics getsystemmetrics drawtextexw getsystemmetrics getsystemmetrics getsystemmetrics getsystemmetrics getsystemmetrics getsystemmetrics getsystemmetrics getsystemmetrics getsystemmetrics getsystemmetrics drawtextexw getsystemmetrics getsystemmetrics getsystemmetrics getsystemmetrics getsystemmetrics getsystemmetrics findresourcea findresourcea loadresource sizeofresource getsystemmetrics getsystemmetrics getsystemmetrics getsystemmetrics getsystemmetrics getsystemmetrics getsystemmetrics getsystemmetrics getsystemmetrics getsystemmetrics getsystemmetrics getsystemmetrics getsystemmetrics getsystemmetrics getsystemmetrics getsystemmetrics getsystemmetrics getsystemmetrics getsystemmetrics getsystemmetrics getsystemmetrics getsystemmetrics getsystemmetrics getsystemmetrics drawtextexw getsystemmetrics getsystemmetrics getsystemmetrics getsystemmetrics getsystemmetrics getsystemmetrics getsystemmetrics getsystemmetrics getsystemmetrics getsystemmetrics drawtextexw getsystemmetrics getsystemmetrics getsystemmetrics getsystemmetrics getsystemmetrics getsystemmetrics getsystemmetrics getsystemmetrics getsystemmetrics getsystemmetrics drawtextexw getsystemmetrics getsystemmetrics getsystemmetrics getsystemmetrics getsystemmetrics getsystemmetrics getsystemmetrics getsystemmetrics getsystemmetrics getsystemmetrics drawtextexw getsystemmetrics getsystemmetrics getsystemmetrics getsystemmetrics getsystemmetrics getsystemmetrics getsystemmetrics getsystemmetrics getsystemmetrics getsystemmetrics findresourceexw loadresource drawtextexw getsystemmetrics getsystemmetrics getsystemmetrics getsystemmetrics getsystemmetrics getsystemmetrics getsystemmetrics getsystemmetrics getsystemmetrics getsystemmetrics drawtextexw getsystemmetrics getsystemmetrics getsystemmetrics getsystemmetrics getsystemmetrics getsystemmetrics getsystemmetrics getsystemmetrics getsystemmetrics getsystemmetrics drawtextexw getsystemmetrics getsystemmetrics getsystemmetrics getsystemmetrics getsystemmetrics getsystemmetrics getsystemmetrics getsystemmetrics getsystemmetrics getsystemmetrics drawtextexw getsystemmetrics getsystemmetrics getsystemmetrics getsystemmetrics getsystemmetrics getsystemmetrics getsystemmetrics getsystemmetrics getsystemmetrics getsystemmetrics drawtextexw getsystemmetrics getsystemmetrics getsystemmetrics getsystemmetrics getsystemmetrics getsystemmetrics getsystemmetrics getsystemmetrics getsystemmetrics getsystemmetrics drawtextexw getsystemmetrics getsystemmetrics getsystemmetrics getsystemmetrics getsystemmetrics getsystemmetrics getsystemmetrics getsystemmetrics getsystemmetrics getsystemmetrics drawtextexw getsystemmetrics getsystemmetrics getsystemmetrics getsystemmetrics getsystemmetrics getsystemmetrics getsystemmetrics getsystemmetrics getsystemmetrics getsystemmetrics drawtextexw drawtextexw getsystemmetrics getsystemmetrics getsystemmetrics getsystemmetrics getsystemmetrics getsystemmetrics getsystemmetrics getsystemmetrics getsystemmetrics getsystemmetrics drawtextexw getsystemmetrics getsystemmetrics getsystemmetrics getsystemmetrics getsystemmetrics getsystemmetrics getsystemmetrics getsystemmetrics getsystemmetrics getsystemmetrics drawtextexw getsystemmetrics getsystemmetrics getsystemmetrics getsystemmetrics getsystemmetrics getsystemmetrics getsystemmetrics getsystemmetrics getsystemmetrics getsystemmetrics drawtextexw getsystemmetrics getsystemmetrics getsystemmetrics getsystemmetrics getsystemmetrics getsystemmetrics getsystemmetrics getsystemmetrics getsystemmetrics getsystemmetrics drawtextexw getsystemmetrics getsystemmetrics getsystemmetrics getsystemmetrics getsystemmetrics getsystemmetrics getsystemmetrics getsystemmetrics getsystemmetrics getsystemmetrics drawtextexw getsystemmetrics getsystemmetrics getsystemmetrics getsystemmetrics getsystemmetrics getsystemmetrics getsystemmetrics getsystemmetrics getsystemmetrics getsystemmetrics drawtextexw getsystemmetrics getsystemmetrics getsystemmetrics getsystemmetrics getsystemmetrics getsystemmetrics getsystemmetrics getsystemmetrics getsystemmetrics getsystemmetrics drawtextexw getsystemmetrics getsystemmetrics getsystemmetrics getsystemmetrics getsystemmetrics getsystemmetrics getsystemmetrics getsystemmetrics getsystemmetrics getsystemmetrics drawtextexa drawtextexa drawtextexa drawtextexa drawtextexa drawtextexa drawtextexw getsystemmetrics getsystemmetrics getsystemmetrics getsystemmetrics getsystemmetrics getsystemmetrics ntcreatefile __exception__ loadstringa __exception__ enumwindows messageboxtimeouta drawtextexw getsystemmetrics getsystemmetrics getsystemmetrics getsystemmetrics getsystemmetrics getsystemmetrics drawtextexw enumwindows drawtextexw getsystemmetrics getsystemmetrics getsystemmetrics getsystemmetrics getsystemmetrics getsystemmetrics getsystemmetrics getsystemmetrics getsystemmetrics getsystemmetrics drawtextexw getsystemmetrics getsystemmetrics getsystemmetrics getsystemmetrics getsystemmetrics getsystemmetrics getsystemmetrics getsystemmetrics getsystemmetrics getsystemmetrics drawtextexw getsystemmetrics getsystemmetrics getsystemmetrics getsystemmetrics getsystemmetrics getsystemmetrics drawtextexw getsystemmetrics getsystemmetrics getsystemmetrics getsystemmetrics getsystemmetrics getsystemmetrics getsystemmetrics getsystemmetrics getsystemmetrics getsystemmetrics drawtextexw regopenkeyexw drawtextexw getsystemmetrics getsystemmetrics getsystemmetrics getsystemmetrics getsystemmetrics getsystemmetrics getsystemmetrics getsystemmetrics getsystemmetrics getsystemmetrics drawtextexw drawtextexw getsystemmetrics getsystemmetrics getsystemmetrics getsystemmetrics getsystemmetrics getsystemmetrics getsystemmetrics getsystemmetrics getsystemmetrics getsystemmetrics getsystemmetrics getsystemmetrics getsystemmetrics getsystemmetrics getsystemmetrics getsystemmetrics ntallocatevirtualmemory ntfreevirtualmemory drawtextexa getcursorpos getcursorpos getcursorpos drawtextexw getsystemmetrics getsystemmetrics getsystemmetrics getsystemmetrics getsystemmetrics getsystemmetrics getsystemmetrics getsystemmetrics getsystemmetrics getsystemmetrics drawtextexw regopenkeyexw getcursorpos getcursorpos getkeystate drawtextexw getsystemmetrics getsystemmetrics getsystemmetrics getsystemmetrics getsystemmetrics getsystemmetrics drawtextexw getsystemmetrics getsystemmetrics getsystemmetrics getsystemmetrics getsystemmetrics getsystemmetrics getsystemmetrics getsystemmetrics getsystemmetrics getsystemmetrics findresourcea findresourcea loadresource sizeofresource ntallocatevirtualmemory drawtextexw getsystemmetrics getsystemmetrics getsystemmetrics getsystemmetrics getsystemmetrics getsystemmetrics getsystemmetrics getsystemmetrics getsystemmetrics getsystemmetrics drawtextexw getsystemmetrics getsystemmetrics getsystemmetrics getsystemmetrics getsystemmetrics getsystemmetrics getsystemmetrics getsystemmetrics getsystemmetrics getsystemmetrics drawtextexw getsystemmetrics getsystemmetrics getsystemmetrics getsystemmetrics getsystemmetrics getsystemmetrics getsystemmetrics getsystemmetrics getsystemmetrics getsystemmetrics drawtextexw getsystemmetrics getsystemmetrics getsystemmetrics getsystemmetrics getsystemmetrics getsystemmetrics getsystemmetrics getsystemmetrics getsystemmetrics getsystemmetrics findresourceexw loadresource drawtextexw getsystemmetrics getsystemmetrics getsystemmetrics getsystemmetrics getsystemmetrics getsystemmetrics getsystemmetrics getsystemmetrics getsystemmetrics getsystemmetrics drawtextexw getsystemmetrics getsystemmetrics getsystemmetrics getsystemmetrics getsystemmetrics getsystemmetrics getsystemmetrics getsystemmetrics getsystemmetrics getsystemmetrics drawtextexw getsystemmetrics getsystemmetrics getsystemmetrics getsystemmetrics getsystemmetrics getsystemmetrics getsystemmetrics getsystemmetrics getsystemmetrics getsystemmetrics drawtextexw getsystemmetrics getsystemmetrics getsystemmetrics getsystemmetrics getsystemmetrics getsystemmetrics getsystemmetrics getsystemmetrics getsystemmetrics getsystemmetrics drawtextexw getsystemmetrics getsystemmetrics getsystemmetrics getsystemmetrics getsystemmetrics getsystemmetrics getsystemmetrics getsystemmetrics getsystemmetrics getsystemmetrics drawtextexw getsystemmetrics getsystemmetrics getsystemmetrics getsystemmetrics getsystemmetrics getsystemmetrics getsystemmetrics getsystemmetrics getsystemmetrics getsystemmetrics drawtextexw getsystemmetrics getsystemmetrics getsystemmetrics getsystemmetrics getsystemmetrics getsystemmetrics getsystemmetrics getsystemmetrics getsystemmetrics getsystemmetrics drawtextexw drawtextexw getsystemmetrics getsystemmetrics getsystemmetrics getsystemmetrics getsystemmetrics getsystemmetrics getsystemmetrics getsystemmetrics getsystemmetrics getsystemmetrics drawtextexw getsystemmetrics getsystemmetrics getsystemmetrics getsystemmetrics getsystemmetrics getsystemmetrics getsystemmetrics getsystemmetrics getsystemmetrics getsystemmetrics drawtextexw getsystemmetrics getsystemmetrics getsystemmetrics getsystemmetrics getsystemmetrics getsystemmetrics getsystemmetrics getsystemmetrics getsystemmetrics getsystemmetrics drawtextexw getsystemmetrics getsystemmetrics getsystemmetrics getsystemmetrics getsystemmetrics getsystemmetrics getsystemmetrics getsystemmetrics getsystemmetrics getsystemmetrics drawtextexw getsystemmetrics getsystemmetrics getsystemmetrics getsystemmetrics getsystemmetrics getsystemmetrics getsystemmetrics getsystemmetrics getsystemmetrics getsystemmetrics drawtextexw getsystemmetrics getsystemmetrics getsystemmetrics getsystemmetrics getsystemmetrics getsystemmetrics getsystemmetrics getsystemmetrics getsystemmetrics getsystemmetrics drawtextexw getsystemmetrics getsystemmetrics getsystemmetrics getsystemmetrics getsystemmetrics getsystemmetrics getsystemmetrics getsystemmetrics getsystemmetrics getsystemmetrics drawtextexw getsystemmetrics getsystemmetrics getsystemmetrics getsystemmetrics getsystemmetrics getsystemmetrics getsystemmetrics getsystemmetrics getsystemmetrics getsystemmetrics drawtextexa drawtextexa drawtextexa seterrormode ldrgetdllhandle seterrormode ldrgetdllhandle ldrgetprocedureaddress findresourcew loadresource findresourcea loadresource sizeofresource drawtextexw getsystemmetrics getsystemmetrics getsystemmetrics getsystemmetrics getsystemmetrics getsystemmetrics drawtextexa drawtextexw getsystemmetrics getsystemmetrics getsystemmetrics getsystemmetrics getsystemmetrics getsystemmetrics getsystemmetrics getsystemmetrics getsystemmetrics getsystemmetrics drawtextexw regopenkeyexw drawtextexw getsystemmetrics getsystemmetrics getsystemmetrics getsystemmetrics getsystemmetrics getsystemmetrics getsystemmetrics getsystemmetrics getsystemmetrics getsystemmetrics drawtextexw drawtextexw getsystemmetrics getsystemmetrics getsystemmetrics getsystemmetrics getsystemmetrics getsystemmetrics getsystemmetrics getsystemmetrics getsystemmetrics getsystemmetrics drawtextexa drawtextexa drawtextexa getcursorpos getcursorpos\n",
            "\n",
            "ldrloaddll ldrgetprocedureaddress ldrloaddll ldrgetprocedureaddress ldrgetprocedureaddress ldrgetprocedureaddress ldrgetprocedureaddress ldrgetprocedureaddress ldrgetprocedureaddress ldrgetprocedureaddress ldrgetprocedureaddress ldrgetprocedureaddress ldrgetprocedureaddress ldrgetprocedureaddress ldrgetprocedureaddress ldrgetprocedureaddress ldrgetprocedureaddress ldrgetprocedureaddress ldrgetprocedureaddress ldrgetprocedureaddress ldrgetprocedureaddress ldrgetprocedureaddress ldrgetprocedureaddress ldrgetprocedureaddress ldrgetprocedureaddress ldrgetprocedureaddress ldrgetprocedureaddress ldrgetprocedureaddress ldrgetprocedureaddress ldrgetprocedureaddress ldrgetprocedureaddress ldrgetprocedureaddress ldrgetprocedureaddress ldrgetprocedureaddress ldrgetprocedureaddress ldrgetprocedureaddress ldrgetprocedureaddress ldrgetprocedureaddress ldrgetprocedureaddress ldrgetprocedureaddress ldrgetprocedureaddress ldrgetprocedureaddress ldrgetprocedureaddress ldrgetprocedureaddress ldrgetprocedureaddress ldrgetprocedureaddress ldrgetprocedureaddress ldrgetprocedureaddress ldrgetprocedureaddress ldrgetprocedureaddress ldrgetprocedureaddress ldrgetprocedureaddress ldrgetprocedureaddress ldrgetprocedureaddress ldrgetprocedureaddress ldrgetprocedureaddress ldrgetprocedureaddress ldrgetprocedureaddress ldrgetprocedureaddress ldrgetprocedureaddress ldrgetprocedureaddress ldrgetprocedureaddress ldrgetprocedureaddress ldrgetprocedureaddress ldrgetprocedureaddress ldrgetprocedureaddress ldrgetprocedureaddress ldrgetprocedureaddress ldrgetprocedureaddress ldrgetprocedureaddress ldrgetprocedureaddress ldrgetprocedureaddress ldrgetprocedureaddress ldrgetprocedureaddress ldrgetprocedureaddress ldrgetprocedureaddress ldrgetprocedureaddress ldrgetprocedureaddress ldrgetprocedureaddress ldrgetprocedureaddress ldrgetprocedureaddress ldrgetprocedureaddress ldrgetprocedureaddress ldrgetprocedureaddress ldrgetprocedureaddress ldrgetprocedureaddress ldrgetprocedureaddress ldrgetprocedureaddress ldrgetprocedureaddress ldrgetprocedureaddress ldrgetprocedureaddress ldrgetprocedureaddress ldrgetprocedureaddress ldrloaddll ldrgetprocedureaddress ldrgetprocedureaddress ldrgetprocedureaddress ldrgetprocedureaddress ldrgetprocedureaddress ldrgetprocedureaddress ldrgetprocedureaddress ldrgetprocedureaddress ldrgetprocedureaddress ldrgetprocedureaddress ldrgetprocedureaddress ldrgetprocedureaddress ldrgetprocedureaddress ldrgetprocedureaddress ldrgetprocedureaddress ldrgetprocedureaddress ldrgetprocedureaddress ldrgetprocedureaddress ldrgetprocedureaddress ldrgetprocedureaddress ldrgetprocedureaddress ldrgetprocedureaddress ldrgetprocedureaddress ldrgetprocedureaddress ldrgetprocedureaddress ldrgetprocedureaddress ldrgetprocedureaddress ldrgetprocedureaddress ldrgetprocedureaddress ldrgetprocedureaddress ldrgetprocedureaddress ldrgetprocedureaddress ldrgetprocedureaddress ldrgetprocedureaddress ldrgetprocedureaddress ldrgetprocedureaddress ldrloaddll ldrgetprocedureaddress ldrgetprocedureaddress ldrgetprocedureaddress ldrgetprocedureaddress ldrgetprocedureaddress ldrloaddll ldrgetprocedureaddress ldrgetprocedureaddress ldrgetprocedureaddress ldrgetprocedureaddress ldrgetprocedureaddress ldrgetprocedureaddress ldrgetprocedureaddress ldrgetprocedureaddress ldrgetprocedureaddress ldrgetprocedureaddress ldrgetprocedureaddress ldrgetprocedureaddress ldrloaddll ldrgetprocedureaddress ldrgetprocedureaddress ldrgetprocedureaddress ldrloaddll ldrgetprocedureaddress ldrgetprocedureaddress ldrgetprocedureaddress ldrgetprocedureaddress ldrgetprocedureaddress ldrgetprocedureaddress ldrgetprocedureaddress ldrgetprocedureaddress ldrgetprocedureaddress ldrgetprocedureaddress ldrgetprocedureaddress ldrgetprocedureaddress ldrgetprocedureaddress ldrgetprocedureaddress ldrgetprocedureaddress ldrgetprocedureaddress ldrgetprocedureaddress ldrgetprocedureaddress ldrgetprocedureaddress ldrgetprocedureaddress ldrgetprocedureaddress ldrgetprocedureaddress ldrgetprocedureaddress ldrgetprocedureaddress ldrgetprocedureaddress ldrloaddll ldrgetprocedureaddress ldrgetprocedureaddress ldrgetprocedureaddress ldrloaddll ldrgetprocedureaddress ldrgetprocedureaddress ldrgetprocedureaddress ldrgetprocedureaddress ldrgetprocedureaddress ldrgetprocedureaddress ldrgetprocedureaddress ldrgetprocedureaddress ldrgetprocedureaddress ldrgetprocedureaddress ldrgetprocedureaddress ldrgetprocedureaddress ldrgetprocedureaddress ldrgetprocedureaddress ldrgetprocedureaddress ldrgetprocedureaddress ldrgetprocedureaddress ldrgetprocedureaddress ldrgetprocedureaddress ldrgetprocedureaddress ldrgetprocedureaddress ldrgetprocedureaddress ldrgetprocedureaddress ldrgetprocedureaddress ldrgetprocedureaddress ldrgetprocedureaddress ldrgetprocedureaddress ldrgetprocedureaddress ldrgetprocedureaddress ldrgetprocedureaddress ldrgetprocedureaddress ldrgetprocedureaddress ldrgetprocedureaddress ldrgetprocedureaddress ldrgetprocedureaddress ldrgetprocedureaddress ldrgetprocedureaddress ldrgetprocedureaddress ldrgetprocedureaddress ldrgetprocedureaddress ldrgetprocedureaddress ldrgetprocedureaddress ldrgetprocedureaddress ldrgetprocedureaddress ldrgetprocedureaddress ldrgetprocedureaddress ldrgetprocedureaddress ldrgetprocedureaddress ldrgetprocedureaddress ldrgetprocedureaddress ldrgetprocedureaddress ldrgetprocedureaddress ldrgetprocedureaddress ldrgetprocedureaddress ldrgetprocedureaddress ldrgetprocedureaddress ldrgetprocedureaddress ldrgetprocedureaddress ldrgetprocedureaddress ldrgetprocedureaddress ldrgetprocedureaddress ldrgetprocedureaddress ldrgetprocedureaddress ldrgetprocedureaddress ldrgetprocedureaddress ldrgetprocedureaddress ldrgetprocedureaddress ldrgetprocedureaddress ldrgetprocedureaddress ldrgetprocedureaddress ldrgetprocedureaddress ldrgetprocedureaddress ldrgetprocedureaddress ldrgetprocedureaddress ldrgetprocedureaddress ldrgetprocedureaddress ldrgetprocedureaddress ldrgetprocedureaddress ldrgetprocedureaddress ldrgetprocedureaddress ldrgetprocedureaddress ldrgetprocedureaddress ldrgetprocedureaddress ldrgetprocedureaddress ldrgetprocedureaddress ldrgetprocedureaddress ldrgetprocedureaddress ldrgetprocedureaddress ldrgetprocedureaddress ldrloaddll ldrgetprocedureaddress ldrgetprocedureaddress ldrgetprocedureaddress ldrgetprocedureaddress ldrgetprocedureaddress ldrgetprocedureaddress ldrgetprocedureaddress ldrloaddll ldrgetprocedureaddress ldrgetprocedureaddress ldrgetprocedureaddress ldrgetprocedureaddress ldrgetprocedureaddress ldrgetprocedureaddress ldrgetprocedureaddress ldrloaddll ldrgetprocedureaddress ldrgetprocedureaddress ldrloaddll ldrgetprocedureaddress ldrloaddll ldrgetprocedureaddress ldrgetprocedureaddress ldrgetprocedureaddress ldrgetprocedureaddress ldrgetprocedureaddress ldrgetprocedureaddress ldrgetprocedureaddress ldrgetprocedureaddress ldrgetprocedureaddress ldrgetprocedureaddress ldrgetprocedureaddress ldrgetprocedureaddress ldrgetprocedureaddress ldrgetprocedureaddress ldrgetprocedureaddress ldrgetprocedureaddress ldrgetprocedureaddress ldrgetprocedureaddress ldrgetprocedureaddress ldrgetprocedureaddress ldrgetprocedureaddress ldrgetprocedureaddress ldrgetprocedureaddress ldrgetprocedureaddress ldrgetprocedureaddress ldrgetprocedureaddress ldrgetprocedureaddress ldrgetprocedureaddress ldrgetprocedureaddress ldrgetprocedureaddress ldrgetprocedureaddress ldrgetprocedureaddress ldrgetprocedureaddress ldrgetprocedureaddress ldrgetprocedureaddress ldrgetprocedureaddress ldrgetprocedureaddress ldrgetprocedureaddress ldrgetprocedureaddress ldrgetprocedureaddress ldrgetprocedureaddress ldrgetprocedureaddress ldrgetprocedureaddress ldrgetprocedureaddress ldrgetprocedureaddress ldrgetprocedureaddress ldrgetprocedureaddress ldrgetprocedureaddress ldrgetprocedureaddress ldrgetprocedureaddress ldrgetprocedureaddress ldrgetprocedureaddress ldrgetprocedureaddress ldrgetprocedureaddress ldrgetprocedureaddress ldrgetprocedureaddress ldrgetprocedureaddress ldrgetprocedureaddress ldrgetprocedureaddress ldrgetprocedureaddress ldrgetprocedureaddress ldrgetprocedureaddress ldrgetprocedureaddress ldrgetprocedureaddress ldrgetprocedureaddress ldrgetprocedureaddress ldrgetprocedureaddress ldrgetprocedureaddress ldrgetprocedureaddress ldrgetprocedureaddress ldrgetprocedureaddress ldrgetprocedureaddress ldrgetprocedureaddress ldrgetprocedureaddress ldrgetprocedureaddress ldrgetprocedureaddress ldrgetprocedureaddress ldrgetprocedureaddress ldrgetprocedureaddress ldrgetprocedureaddress ldrgetprocedureaddress ldrgetprocedureaddress ldrgetprocedureaddress ldrgetprocedureaddress ldrgetprocedureaddress ldrgetprocedureaddress ldrgetprocedureaddress ldrgetprocedureaddress ldrgetprocedureaddress ldrgetprocedureaddress ldrgetprocedureaddress ldrgetprocedureaddress ldrgetprocedureaddress ldrgetprocedureaddress ldrgetprocedureaddress ldrgetprocedureaddress ldrgetprocedureaddress ldrgetprocedureaddress ldrgetprocedureaddress ldrgetprocedureaddress ldrgetprocedureaddress ldrgetprocedureaddress ldrgetprocedureaddress ldrgetprocedureaddress ldrgetprocedureaddress ldrgetprocedureaddress ldrgetprocedureaddress ldrgetprocedureaddress ldrgetprocedureaddress ldrgetprocedureaddress ldrgetprocedureaddress ldrgetprocedureaddress ldrgetprocedureaddress ldrgetprocedureaddress ldrgetprocedureaddress ldrgetprocedureaddress ldrgetprocedureaddress ldrgetprocedureaddress ldrgetprocedureaddress ldrgetprocedureaddress ldrgetprocedureaddress ldrgetprocedureaddress ldrgetprocedureaddress ldrgetprocedureaddress ldrgetprocedureaddress ldrgetprocedureaddress ldrgetprocedureaddress ldrgetprocedureaddress ldrgetprocedureaddress ldrgetprocedureaddress ldrgetprocedureaddress ldrgetprocedureaddress ldrgetprocedureaddress ldrgetprocedureaddress ldrgetprocedureaddress ldrgetprocedureaddress ldrgetprocedureaddress ldrgetprocedureaddress ldrgetprocedureaddress ldrgetprocedureaddress ldrgetprocedureaddress ldrgetprocedureaddress ldrgetprocedureaddress ldrgetprocedureaddress ldrgetprocedureaddress ldrgetprocedureaddress ldrgetprocedureaddress ldrgetprocedureaddress ldrgetprocedureaddress ldrgetprocedureaddress ldrgetprocedureaddress ldrgetprocedureaddress ldrgetprocedureaddress ldrgetprocedureaddress ldrgetprocedureaddress ldrgetprocedureaddress ldrgetprocedureaddress ldrgetprocedureaddress ldrgetprocedureaddress ldrgetprocedureaddress ldrgetprocedureaddress ldrgetprocedureaddress ldrgetprocedureaddress ldrgetprocedureaddress ldrgetprocedureaddress ldrgetprocedureaddress ldrgetprocedureaddress ldrloaddll ldrgetprocedureaddress ldrgetprocedureaddress ldrgetprocedureaddress ldrloaddll ldrgetprocedureaddress ldrgetprocedureaddress ldrgetprocedureaddress ldrgetprocedureaddress ldrloaddll ldrgetprocedureaddress ldrgetprocedureaddress ldrgetprocedureaddress ldrgetprocedureaddress ldrloaddll ldrgetprocedureaddress ldrgetprocedureaddress ldrgetprocedureaddress ldrgetprocedureaddress ldrgetprocedureaddress ldrgetprocedureaddress ldrgetprocedureaddress ldrgetprocedureaddress ldrgetprocedureaddress ldrgetprocedureaddress ldrgetprocedureaddress ldrgetprocedureaddress ldrgetprocedureaddress ldrgetprocedureaddress ldrgetprocedureaddress ldrgetprocedureaddress ldrgetprocedureaddress ldrgetprocedureaddress ldrgetprocedureaddress ldrgetprocedureaddress regopenkeyexa ntopenkey ntqueryvaluekey ntclose ntopenkey ntqueryvaluekey ntclose ntclose ntqueryattributesfile ntqueryattributesfile ntqueryattributesfile ntqueryattributesfile loadstringa ntallocatevirtualmemory ntallocatevirtualmemory loadstringa loadstringa loadstringa loadstringa loadstringa loadstringa loadstringa loadstringa loadstringa loadstringa loadstringa loadstringa loadstringa loadstringa loadstringa loadstringa loadstringa loadstringa loadstringa loadstringa loadstringa loadstringa loadstringa loadstringa loadstringa loadstringa loadstringa loadstringa loadstringa loadstringa loadstringa getsystemmetrics loadstringa loadstringa loadstringa loadstringa loadstringa loadstringa loadstringa loadstringa loadstringa loadstringa loadstringa loadstringa loadstringa loadstringa loadstringa loadstringa loadstringa loadstringa findresourceexw loadresource findresourceexw loadresource findresourceexw loadresource findresourceexw loadresource findresourceexw loadresource findresourceexw loadresource findresourceexw loadresource findresourceexw loadresource findresourceexw loadresource findresourceexw loadresource findresourceexw loadresource findresourceexw loadresource findresourceexw loadresource findresourceexw loadresource ntallocatevirtualmemory ldrloaddll ldrgetprocedureaddress ldrgetprocedureaddress getsystemwindowsdirectoryw ntcreatefile ntcreatesection ntmapviewofsection ntclose ntclose findresourceexw loadresource findresourceexw loadresource ntallocatevirtualmemory getsystemmetrics getsystemmetrics ntclose ntclose getsystemmetrics ntallocatevirtualmemory getsystemmetrics getsystemmetrics ldrloaddll ldrgetprocedureaddress ldrgetdllhandle findresourceexw loadresource findresourceexw loadresource drawtextexw getsystemmetrics getsystemmetrics getsystemmetrics getsystemmetrics getsystemmetrics getsystemmetrics getsystemmetrics getsystemmetrics findresourceexw loadresource getsystemmetrics getsystemmetrics drawtextexw findresourceexw loadresource loadstringa loadstringa loadstringa loadstringa coinitializeex wsastartup ntallocatevirtualmemory ntallocatevirtualmemory ntallocatevirtualmemory ntcreatefile setfilepointer ntreadfile setfilepointer ntallocatevirtualmemory ntreadfile ntreadfile ntreadfile ntreadfile ntfreevirtualmemory ntclose ldrloaddll ldrgetprocedureaddress gettemppathw ntfreevirtualmemory ntfreevirtualmemory ntallocatevirtualmemory findfirstfileexw ldrgetprocedureaddress gettemppathw ntallocatevirtualmemory ntfreevirtualmemory ntcreatefile ntfreevirtualmemory ntfreevirtualmemory ntwritefile ntclose ldrgetprocedureaddress ntallocatevirtualmemory gettemppathw ntfreevirtualmemory ntfreevirtualmemory deletefilew ldrgetprocedureaddress gettemppathw ntcreatefile ntfreevirtualmemory ntfreevirtualmemory ntwritefile ntwritefile ntwritefile ntwritefile ntclose ldrloaddll ldrgetprocedureaddress ldrgetprocedureaddress ntallocatevirtualmemory gettemppathw ntfreevirtualmemory ntfreevirtualmemory createprocessinternalw ntclose ntclose ldrgetprocedureaddress gettemppathw ntdelayexecution ntcreatefile ntfreevirtualmemory ntfreevirtualmemory loadstringa __exception__\n",
            "\n"
          ],
          "name": "stdout"
        }
      ]
    },
    {
      "cell_type": "code",
      "metadata": {
        "id": "2Td3607kuXPn",
        "colab_type": "code",
        "colab": {}
      },
      "source": [
        "    sequence = []\n",
        "    for call_list in temp_calls:\n",
        "        for call in call_list.split(' '):\n",
        "          temp_call = re.sub(r'\\n', '', call)\n",
        "          if temp_call not in sequence:\n",
        "              sequence.append(temp_call)"
      ],
      "execution_count": 0,
      "outputs": []
    },
    {
      "cell_type": "code",
      "metadata": {
        "id": "tfLJgE2FDkSl",
        "colab_type": "code",
        "outputId": "15b7bf29-61f1-4bd9-8009-c3c0c356d27a",
        "colab": {
          "base_uri": "https://localhost:8080/",
          "height": 72
        }
      },
      "source": [
        "print(sequence)\n",
        "print(len(sequence))"
      ],
      "execution_count": 0,
      "outputs": [
        {
          "output_type": "stream",
          "text": [
            "['ldrloaddll', 'ldrgetprocedureaddress', 'regopenkeyexa', 'ntopenkey', 'ntqueryvaluekey', 'ntclose', 'ntqueryattributesfile', 'loadstringa', 'ntallocatevirtualmemory', 'ldrgetdllhandle', 'getsystemmetrics', 'findresourceexw', 'loadresource', 'drawtextexw', 'findresourcea', 'sizeofresource', 'getsystemwindowsdirectoryw', 'ntcreatefile', 'ntcreatesection', 'ntmapviewofsection', 'regopenkeyexw', 'regclosekey', 'drawtextexa', 'ntdelayexecution', 'getsystemdirectoryw', 'coinitializeex', 'regqueryvalueexw', 'ntopenmutant', 'ntopensection', 'ntunmapviewofsection', 'regenumkeyexw', 'loadstringw', 'getcursorpos', 'getforegroundwindow', 'getkeystate', 'ntfreevirtualmemory', 'getsysteminfo', 'wsastartup', '__exception__', 'ntopenfile', 'ntqueryinformationfile', 'getdiskfreespacew', 'regcreatekeyexa', 'findwindowa', 'ntterminateprocess', 'ldrunloaddll', 'globalmemorystatus', 'getfiletype', 'ntquerysysteminformation', 'regqueryvalueexa', 'globalmemorystatusex', 'ntduplicateobject', 'getsystemtimeasfiletime', 'ntcreatethreadex', 'ntresumethread', 'openscmanagera', 'createactctxw', 'enumwindows', 'messageboxtimeouta', 'seterrormode', 'findresourcew', 'setfilepointer', 'ntreadfile', 'gettemppathw', 'findfirstfileexw', 'ntwritefile', 'deletefilew', 'createprocessinternalw', 'ntprotectvirtualmemory', 'oleinitialize', 'searchpathw', 'getfileattributesw', 'setwindowshookexa', 'unhookwindowshookex', 'couninitialize', 'isdebuggerpresent', 'getsystemdirectorya', 'removedirectorya', 'regdeletekeya', 'ntcreatemutant', 'getnativesysteminfo', 'getvolumenameforvolumemountpointw', 'getvolumepathnamesforvolumenamew', 'shellexecuteexw', 'getfileversioninfosizew', 'getfileversioninfow', 'setfileattributesw', 'copyfilea', 'ntopendirectoryobject', 'createthread', 'ntopenkeyex', 'setunhandledexceptionfilter', 'getfileinformationbyhandle', 'getfilesize', 'cryptacquirecontextw', 'setendoffile', 'ntquerykey', 'cocreateinstance', 'copyfilew', 'regsetvalueexa', 'cogetclassobject', 'regenumvaluea', 'ntenumeratekey', 'setfiletime', 'ntcreatekey', 'ntsetvaluekey', 'socket', 'bind', 'listen', 'gethostbyname', 'ntquerydirectoryfile', 'regdeletevaluea', 'gettimezoneinformation', 'regenumkeyw', 'createdirectoryw', 'getfilesizeex', 'getfileinformationbyhandleex', 'ntopenprocess', 'setfilepointerex', 'regqueryinfokeyw', 'regenumvaluew', 'regcreatekeyexw', 'regsetvalueexw', 'getshortpathnamew', 'getfileattributesexw', 'ntsetinformationfile', 'sendnotifymessagew', 'findwindoww', 'findresourceexa', 'internetopena', 'internetconnecta', 'httpopenrequesta', 'readprocessmemory', 'openservicea', 'uuidcreate', 'ntopenthread', 'getaddrinfo', 'ntdeviceiocontrolfile', 'getadaptersaddresses', 'internetclosehandle', 'createtoolhelp32snapshot', 'process32firstw', 'process32nextw', 'cocreateinstanceex', 'getcomputernamea', 'getusernamea', 'lookupprivilegevaluew', 'writeprocessmemory', 'createremotethread', 'ntgetcontextthread', 'ntsetcontextthread', 'getadaptersinfo', 'internetgetconnectedstate', 'closesocket', 'ntenumeratevaluekey', 'shgetfolderpathw', 'shgetspecialfolderlocation', 'internetsetoptiona', 'getsockname', 'connect', 'internetopenw', 'internetsetstatuscallback', 'internetconnectw', 'regenumkeyexa', 'select', 'getcomputernamew', 'ntwritevirtualmemory', 'writeconsolea', 'copyfileexw', 'shutdown', 'movefilewithprogressw', 'ioctlsocket', 'setsockopt', 'openscmanagerw', 'openservicew', 'timegettime', 'internetqueryoptiona', 'internetcrackurla', 'urldownloadtofilew', 'setwindowshookexw', 'deviceiocontrol', 'module32firstw', 'module32nextw', 'httpsendrequesta', 'rtladdvectoredcontinuehandler', 'controlservice', 'startservicea', 'getasynckeystate', 'ntsuspendthread', 'exitwindowsex', 'regdeletekeyw', 'regdeletevaluew', 'coinitializesecurity', 'getvolumepathnamew', 'readcabinetstate', 'getkeyboardstate', 'lookupaccountsidw', 'wsarecv', 'cryptacquirecontexta', 'cryptcreatehash', 'crypthashdata', 'cryptdecrypt', 'regqueryinfokeya', 'findwindowexa', 'createservicea', 'getdiskfreespaceexw', 'wsasocketa', 'accept', 'recv', 'send', 'getbestinterfaceex', 'sendto', 'recvfrom', 'internetopenurla', 'cryptencrypt', 'wsasocketw', 'getusernamew', 'iwbemservices_execquery', 'netshareenum', 'httpopenrequestw', 'httpsendrequestw', 'httpqueryinfoa', 'setfileinformationbyhandle', 'internetcrackurlw', 'enumservicesstatusa', 'certopensystemstorea', 'createjobobjectw', 'outputdebugstringa', 'writeconsolew', 'obtainuseragentstring', 'internetreadfile', '__anomaly__', 'removedirectoryw', 'getaddrinfow', 'messageboxtimeoutw', 'ntterminatethread', 'dnsquery_a', 'thread32first', 'thread32next', 'cryptprotectmemory', 'cryptunprotectmemory', 'getsystemwindowsdirectorya', 'deleteurlcacheentryw', 'createremotethreadex']\n",
            "244\n"
          ],
          "name": "stdout"
        }
      ]
    },
    {
      "cell_type": "code",
      "metadata": {
        "id": "wNtwvXCO2ZPM",
        "colab_type": "code",
        "colab": {}
      },
      "source": [
        "with open('sequence.csv', 'w+') as out_file:\n",
        "  for seq in sequence:\n",
        "    out_file.write(seq)\n",
        "    out_file.write('\\n')"
      ],
      "execution_count": 0,
      "outputs": []
    },
    {
      "cell_type": "code",
      "metadata": {
        "id": "zOaq7RZAWM7E",
        "colab_type": "code",
        "colab": {}
      },
      "source": [
        "for row in rows:\n",
        "  print(row)"
      ],
      "execution_count": 0,
      "outputs": []
    },
    {
      "cell_type": "markdown",
      "metadata": {
        "id": "6TJDkqHfWtwg",
        "colab_type": "text"
      },
      "source": [
        "Right here i wondered why things were not being simple."
      ]
    },
    {
      "cell_type": "code",
      "metadata": {
        "id": "OpC0NJSNSfv7",
        "colab_type": "code",
        "colab": {}
      },
      "source": [
        "bins = [[[],[]],[],[],[],[]]\n",
        "for i in range(len(rows)):\n",
        "  call = api_calls[rows[i][0]].split(' ')\n",
        "  if len(call) < 2000:\n",
        "    bins[0][0].append(rows[i][0])\n",
        "    bins[0][1].append(call)\n",
        "  elif len(call) < 10000:\n",
        "    bins[1].append(len(call))\n",
        "  elif len(call) < 20000:\n",
        "    bins[2].append(len(call))\n",
        "  elif len(call) < 50000:\n",
        "    bins[3].append(len(call))\n",
        "  else:\n",
        "    bins[4].append(len(call))"
      ],
      "execution_count": 0,
      "outputs": []
    },
    {
      "cell_type": "code",
      "metadata": {
        "id": "u-MrpHutTLEH",
        "colab_type": "code",
        "outputId": "1ab991fd-019b-4ab0-9b7b-d623f5fe5e3f",
        "colab": {
          "base_uri": "https://localhost:8080/",
          "height": 105
        }
      },
      "source": [
        "for bin in bins:\n",
        "  print(len(bin))"
      ],
      "execution_count": 0,
      "outputs": [
        {
          "output_type": "stream",
          "text": [
            "2\n",
            "695\n",
            "184\n",
            "118\n",
            "277\n"
          ],
          "name": "stdout"
        }
      ]
    },
    {
      "cell_type": "code",
      "metadata": {
        "id": "AQf9NQ8FeQAv",
        "colab_type": "code",
        "outputId": "99f4ca47-e334-45a4-fdcf-541f58a92074",
        "colab": {
          "base_uri": "https://localhost:8080/",
          "height": 34
        }
      },
      "source": [
        "print(len(bins[0][0]))"
      ],
      "execution_count": 0,
      "outputs": [
        {
          "output_type": "stream",
          "text": [
            "4111\n"
          ],
          "name": "stdout"
        }
      ]
    },
    {
      "cell_type": "code",
      "metadata": {
        "id": "60OqSBYSZom4",
        "colab_type": "code",
        "outputId": "fd824350-20ae-4982-b105-4db72882e8cd",
        "colab": {
          "base_uri": "https://localhost:8080/",
          "height": 123
        }
      },
      "source": [
        "print(index_df.head())"
      ],
      "execution_count": 0,
      "outputs": [
        {
          "output_type": "stream",
          "text": [
            "   index     label                                    data_unembedded\n",
            "0      1    Trojan  getsystemtimeasfiletime ntallocatevirtualmemor...\n",
            "1      2  Backdoor  ldrgetdllhandle ldrgetprocedureaddress getsyst...\n",
            "2      3  Backdoor  ldrloaddll ldrgetprocedureaddress ldrloaddll l...\n",
            "3      4    Trojan  ldrloaddll ldrgetprocedureaddress ldrgetproced...\n",
            "4      5    Trojan  ntprotectvirtualmemory ntprotectvirtualmemory ...\n"
          ],
          "name": "stdout"
        }
      ]
    },
    {
      "cell_type": "code",
      "metadata": {
        "id": "qWszSVSwazUm",
        "colab_type": "code",
        "colab": {}
      },
      "source": [
        "data = index_df['data_unembedded'].values"
      ],
      "execution_count": 0,
      "outputs": []
    },
    {
      "cell_type": "code",
      "metadata": {
        "id": "gtw3-6qxbgJd",
        "colab_type": "code",
        "colab": {}
      },
      "source": [
        "bins = [[[],[],[]],[],[],[],[]]\n",
        "for i in range(len(rows)):\n",
        "  call = data[i].split(' ')\n",
        "  if len(call) < 2000:\n",
        "    bins[0][0].append(rows[i][0])\n",
        "    bins[0][1].append(call)\n",
        "    bins[0][2].append(labels[i])\n",
        "  elif len(call) < 10000:\n",
        "    bins[1].append(len(call))\n",
        "  elif len(call) < 20000:\n",
        "    bins[2].append(len(call))\n",
        "  elif len(call) < 50000:\n",
        "    bins[3].append(len(call))\n",
        "  else:\n",
        "    bins[4].append(len(call))"
      ],
      "execution_count": 0,
      "outputs": []
    },
    {
      "cell_type": "code",
      "metadata": {
        "id": "1hs6YpOZbsN3",
        "colab_type": "code",
        "outputId": "8d777c20-bb77-4bbc-fffd-d6bc5aaa7450",
        "colab": {
          "base_uri": "https://localhost:8080/",
          "height": 105
        }
      },
      "source": [
        "for bin in bins:\n",
        "  print(len(bin))"
      ],
      "execution_count": 0,
      "outputs": [
        {
          "output_type": "stream",
          "text": [
            "3\n",
            "695\n",
            "184\n",
            "118\n",
            "277\n"
          ],
          "name": "stdout"
        }
      ]
    },
    {
      "cell_type": "code",
      "metadata": {
        "id": "pw8tWV0deam-",
        "colab_type": "code",
        "colab": {}
      },
      "source": [
        "data = bins[0][1]\n",
        "index_temp = bins[0][0]\n",
        "labels = bins[0][2]"
      ],
      "execution_count": 0,
      "outputs": []
    },
    {
      "cell_type": "markdown",
      "metadata": {
        "id": "rQBoIYdu6HEM",
        "colab_type": "text"
      },
      "source": [
        "Back to noraml"
      ]
    },
    {
      "cell_type": "code",
      "metadata": {
        "id": "WjQ3wowPhAqO",
        "colab_type": "code",
        "outputId": "cbd7c143-b843-46af-d643-e8d003f15cba",
        "colab": {
          "base_uri": "https://localhost:8080/",
          "height": 125
        }
      },
      "source": [
        "for i in range(5):\n",
        "  print(data[i])"
      ],
      "execution_count": 0,
      "outputs": [
        {
          "output_type": "stream",
          "text": [
            "['getsystemtimeasfiletime', 'ntallocatevirtualmemory', 'ntfreevirtualmemory', 'ntallocatevirtualmemory', 'ldrgetdllhandle', 'ldrgetprocedureaddress', 'ldrgetprocedureaddress', 'ldrgetprocedureaddress', 'ldrgetprocedureaddress', 'ldrgetdllhandle', 'ldrgetprocedureaddress', 'ldrgetdllhandle', 'ldrgetprocedureaddress', 'ldrgetdllhandle', 'ldrgetprocedureaddress', 'ldrgetdllhandle', 'ldrgetprocedureaddress', 'ldrgetdllhandle', 'ldrgetprocedureaddress', 'ldrgetdllhandle', 'ldrgetprocedureaddress', 'ldrgetdllhandle', 'ldrgetprocedureaddress', 'ldrgetdllhandle', 'ldrgetprocedureaddress', 'ldrgetdllhandle', 'ldrgetprocedureaddress', 'ldrgetdllhandle', 'ldrgetprocedureaddress', 'ldrgetdllhandle', 'ldrgetprocedureaddress', 'ldrgetdllhandle', 'ldrgetprocedureaddress', 'ldrgetdllhandle', 'ldrgetprocedureaddress', 'ldrgetdllhandle', 'ldrgetprocedureaddress', 'ldrgetdllhandle', 'ldrgetprocedureaddress', 'ldrgetdllhandle', 'ldrgetprocedureaddress', 'ldrgetdllhandle', 'ldrgetprocedureaddress', 'ldrgetdllhandle', 'ldrgetprocedureaddress', 'ldrgetdllhandle', 'ldrgetprocedureaddress', 'ldrgetdllhandle', 'ldrgetprocedureaddress', 'ldrgetdllhandle', 'ldrgetprocedureaddress', 'ldrgetdllhandle', 'ldrgetprocedureaddress', 'ldrgetdllhandle', 'ldrgetprocedureaddress', 'ldrgetdllhandle', 'ldrgetprocedureaddress', 'ldrgetdllhandle', 'ldrgetprocedureaddress', 'ldrgetdllhandle', 'ldrgetprocedureaddress', 'ldrgetprocedureaddress', 'ntallocatevirtualmemory', 'ntallocatevirtualmemory', 'setunhandledexceptionfilter', 'getsystemtimeasfiletime', 'ntcreatemutant', 'ntclose', 'ntallocatevirtualmemory', 'ldrloaddll', 'ntallocatevirtualmemory', 'ntallocatevirtualmemory', 'ldrgetdllhandle', 'ldrloaddll', 'ldrloaddll', 'ntallocatevirtualmemory', 'ldrloaddll', 'getsysteminfo', 'ldrloaddll', 'getsystemdirectoryw', 'regopenkeyexa', 'regopenkeyexa', 'ldrloaddll', '__exception__', '__exception__', 'ldrloaddll', 'ldrgetprocedureaddress', 'ldrloaddll', 'ldrgetprocedureaddress', 'ldrloaddll', 'ldrgetprocedureaddress', 'ldrloaddll', 'ldrgetprocedureaddress', 'ldrgetdllhandle', 'ntallocatevirtualmemory', 'ldrloaddll', 'ntallocatevirtualmemory', 'ntallocatevirtualmemory', 'ntprotectvirtualmemory', 'ntallocatevirtualmemory', 'ldrloaddll', '__exception__', 'ntprotectvirtualmemory', 'ntprotectvirtualmemory', 'ntprotectvirtualmemory', 'ldrgetdllhandle', 'ldrloaddll', 'ldrgetprocedureaddress', 'ldrloaddll', 'ldrgetprocedureaddress', 'ldrloaddll', 'ldrgetprocedureaddress', 'ldrloaddll', 'ldrgetprocedureaddress', 'ldrloaddll', 'ldrgetprocedureaddress', 'ldrloaddll', 'ldrgetprocedureaddress', 'ldrloaddll', 'ldrgetprocedureaddress', 'ldrloaddll', 'ldrgetprocedureaddress', 'getsystemtimeasfiletime', 'ntallocatevirtualmemory', 'ntfreevirtualmemory', 'ntallocatevirtualmemory', 'ldrgetdllhandle', 'ldrgetprocedureaddress', 'ldrgetprocedureaddress', 'ldrgetprocedureaddress', 'ldrgetprocedureaddress', 'ldrgetdllhandle', 'ldrgetprocedureaddress', 'ldrgetdllhandle', 'ldrgetprocedureaddress', 'ldrgetdllhandle', 'ldrgetprocedureaddress', 'ldrgetdllhandle', 'ldrgetprocedureaddress', 'ldrgetdllhandle', 'ldrgetprocedureaddress', 'ldrgetdllhandle', 'ldrgetprocedureaddress', 'ldrgetdllhandle', 'ldrgetprocedureaddress', 'ldrgetdllhandle', 'ldrgetprocedureaddress', 'ldrgetdllhandle', 'ldrgetprocedureaddress', 'ldrgetdllhandle', 'ldrgetprocedureaddress', 'ldrgetprocedureaddress', 'ntallocatevirtualmemory', 'ntallocatevirtualmemory', 'ldrgetdllhandle', 'ldrgetprocedureaddress', 'setunhandledexceptionfilter', 'ntallocatevirtualmemory', 'ntallocatevirtualmemory', 'ntallocatevirtualmemory', 'getsysteminfo', 'coinitializeex', 'ntallocatevirtualmemory', 'setunhandledexceptionfilter', 'regopenkeyexa', 'regopenkeyexa', 'regqueryvalueexa', 'ntclose', 'regclosekey', 'regopenkeyexa', 'regopenkeyexa', 'regqueryvalueexa', 'ntclose', 'regclosekey', 'getshortpathnamew', 'getshortpathnamew', 'regopenkeyexa', 'regopenkeyexa', 'regqueryvalueexa', 'ntclose', 'regclosekey', 'regopenkeyexa', 'regopenkeyexa', 'regqueryvalueexa', 'ntclose', 'regclosekey', 'createprocessinternalw', 'ntclose', 'ntcreatefile', 'getfilesize', 'ntallocatevirtualmemory', 'ntreadfile', 'ntclose', 'ntallocatevirtualmemory', 'ntallocatevirtualmemory', 'writeprocessmemory', 'ntallocatevirtualmemory', 'ntallocatevirtualmemory', 'ntallocatevirtualmemory', 'ntallocatevirtualmemory', 'ldrgetdllhandle', 'ldrgetprocedureaddress', 'ldrgetdllhandle', 'ldrgetprocedureaddress', 'ldrgetdllhandle', 'ldrgetprocedureaddress', 'writeprocessmemory', 'writeprocessmemory', 'ntallocatevirtualmemory', 'writeprocessmemory', 'ntallocatevirtualmemory', 'writeprocessmemory', 'createremotethread', 'ntclose', 'ntfreevirtualmemory', 'ntfreevirtualmemory', 'ntcreatesection', 'ntmapviewofsection', 'ntunmapviewofsection', 'createremotethread', 'ntclose', 'ntfreevirtualmemory', 'ntclose', 'ntclose', 'setunhandledexceptionfilter', 'ntfreevirtualmemory', 'couninitialize', 'ldrgetdllhandle', 'ldrgetdllhandle', 'ntterminateprocess', 'ntterminateprocess', 'ntclose', 'ntclose', 'ntclose', 'ntclose', 'ntclose', 'ntclose', 'ntclose', 'ntclose', 'ntclose', 'ntclose', 'ntclose', 'ntclose', 'ntclose', 'ntclose', 'ntclose', 'ntunmapviewofsection', 'ntclose', 'ntclose', 'ntclose', 'ntclose', 'ntfreevirtualmemory', 'ntclose', 'ntclose', 'ntclose', 'ldrunloaddll', 'ntopenkey', 'ntqueryvaluekey', 'ntclose', 'ntclose', 'ntclose', 'ntclose', 'ntterminateprocess\\n']\n",
            "['ldrgetdllhandle', 'ldrgetprocedureaddress', 'getsystemdirectorya', 'copyfilea', 'regopenkeyexa', 'regsetvalueexa', 'regclosekey', 'regcreatekeyexa', 'regclosekey', 'ntcreatefile', 'ntcreatefile', 'setfilepointer', 'ntwritefile', 'ntclose', 'regopenkeyexa', 'regsetvalueexa', 'regclosekey', 'regopenkeyexa', 'regsetvalueexa', 'regclosekey', 'regopenkeyexa', 'regsetvalueexa', 'regclosekey', 'getsystemdirectorya', 'ntcreatefile', 'ntcreatefile', 'regopenkeyexa', 'regsetvalueexa', 'regclosekey', 'ntcreatefile', 'createthread', 'createthread', 'ntcreatefile', 'setfilepointer', 'ntwritefile', 'ntclose', 'ldrloaddll', 'ldrgetprocedureaddress', '__exception__', 'setwindowshookexa', 'ntallocatevirtualmemory', 'ntfreevirtualmemory', 'ntallocatevirtualmemory', 'ldrloaddll', 'ldrgetprocedureaddress', 'isdebuggerpresent', 'getsystemmetrics', 'ntmapviewofsection', 'ntterminateprocess\\n']\n",
            "['ldrloaddll', 'ldrgetprocedureaddress', 'ldrloaddll', 'ldrgetprocedureaddress', 'ldrgetprocedureaddress', 'ldrgetprocedureaddress', 'ldrgetprocedureaddress', 'ldrgetprocedureaddress', 'ldrgetprocedureaddress', 'ldrgetprocedureaddress', 'ldrgetprocedureaddress', 'ldrgetprocedureaddress', 'ldrgetprocedureaddress', 'ldrgetprocedureaddress', 'ldrgetprocedureaddress', 'ldrgetprocedureaddress', 'ldrgetprocedureaddress', 'ldrgetprocedureaddress', 'ldrgetprocedureaddress', 'ldrgetprocedureaddress', 'ldrgetprocedureaddress', 'ldrgetprocedureaddress', 'ldrgetprocedureaddress', 'ldrgetprocedureaddress', 'ldrgetprocedureaddress', 'ldrgetprocedureaddress', 'ldrgetprocedureaddress', 'ldrgetprocedureaddress', 'ldrgetprocedureaddress', 'ldrgetprocedureaddress', 'ldrgetprocedureaddress', 'ldrgetprocedureaddress', 'ldrgetprocedureaddress', 'ldrgetprocedureaddress', 'ldrgetprocedureaddress', 'ldrgetprocedureaddress', 'ldrgetprocedureaddress', 'ldrgetprocedureaddress', 'ldrgetprocedureaddress', 'ldrgetprocedureaddress', 'ldrgetprocedureaddress', 'ldrgetprocedureaddress', 'ldrgetprocedureaddress', 'ldrgetprocedureaddress', 'ldrloaddll', 'ldrgetprocedureaddress', 'ldrgetprocedureaddress', 'ldrgetprocedureaddress', 'ldrgetprocedureaddress', 'ldrloaddll', 'ldrgetprocedureaddress', 'ldrgetprocedureaddress', 'ldrgetprocedureaddress', 'ldrgetprocedureaddress', 'ldrgetprocedureaddress', 'ldrgetprocedureaddress', 'ldrgetprocedureaddress', 'ldrgetprocedureaddress', 'ldrgetprocedureaddress', 'ldrgetprocedureaddress', 'ldrgetprocedureaddress', 'ldrgetprocedureaddress', 'ldrgetprocedureaddress', 'ldrgetprocedureaddress', 'ldrgetprocedureaddress', 'ldrgetprocedureaddress', 'ldrgetprocedureaddress', 'ldrgetprocedureaddress', 'ldrgetprocedureaddress', 'ldrgetprocedureaddress', 'ldrgetprocedureaddress', 'ldrgetprocedureaddress', 'ldrgetprocedureaddress', 'ldrgetprocedureaddress', 'ldrgetprocedureaddress', 'ldrgetprocedureaddress', 'ldrgetprocedureaddress', 'ldrgetprocedureaddress', 'ldrgetprocedureaddress', 'ldrgetprocedureaddress', 'ldrgetprocedureaddress', 'ldrgetprocedureaddress', 'ldrgetprocedureaddress', 'ldrgetprocedureaddress', 'ldrgetprocedureaddress', 'ldrgetprocedureaddress', 'ldrgetprocedureaddress', 'ldrgetprocedureaddress', 'ldrgetprocedureaddress', 'ldrgetprocedureaddress', 'ldrgetprocedureaddress', 'ldrgetprocedureaddress', 'ldrgetprocedureaddress', 'ldrgetprocedureaddress', 'ldrgetprocedureaddress', 'ldrgetprocedureaddress', 'ldrgetprocedureaddress', 'ldrgetprocedureaddress', 'ldrgetprocedureaddress', 'ldrgetprocedureaddress', 'ldrgetprocedureaddress', 'ldrgetprocedureaddress', 'ldrgetprocedureaddress', 'ldrgetprocedureaddress', 'ldrgetprocedureaddress', 'ldrgetprocedureaddress', 'ldrgetprocedureaddress', 'ldrgetprocedureaddress', 'ldrloaddll', 'ldrgetprocedureaddress', 'ldrgetprocedureaddress', 'ldrgetprocedureaddress', 'ldrloaddll', 'ldrgetprocedureaddress', 'ldrgetprocedureaddress', 'ldrgetprocedureaddress', 'ldrloaddll', 'ldrgetprocedureaddress', 'ldrgetprocedureaddress', 'ldrgetprocedureaddress', 'ldrgetprocedureaddress', 'ldrgetprocedureaddress', 'ldrgetprocedureaddress', 'ldrgetprocedureaddress', 'ldrgetprocedureaddress', 'ldrgetprocedureaddress', 'ldrgetprocedureaddress', 'ldrgetprocedureaddress', 'ldrgetprocedureaddress', 'ldrgetprocedureaddress', 'ldrgetprocedureaddress', 'ldrgetprocedureaddress', 'ldrgetprocedureaddress', 'ldrgetprocedureaddress', 'ldrgetprocedureaddress', 'ldrgetprocedureaddress', 'ldrgetprocedureaddress', 'ldrgetprocedureaddress', 'ldrgetprocedureaddress', 'ldrgetprocedureaddress', 'ldrloaddll', 'ldrgetprocedureaddress', 'ldrloaddll', 'ldrgetprocedureaddress', 'ldrgetprocedureaddress', 'ldrgetprocedureaddress', 'ldrgetprocedureaddress', 'ldrgetprocedureaddress', 'ldrgetprocedureaddress', 'ldrgetprocedureaddress', 'ldrgetprocedureaddress', 'ldrgetprocedureaddress', 'ldrgetprocedureaddress', 'ldrgetprocedureaddress', 'ldrgetprocedureaddress', 'ldrgetprocedureaddress', 'ldrgetprocedureaddress', 'ldrgetprocedureaddress', 'ldrgetprocedureaddress', 'ldrgetprocedureaddress', 'ldrgetprocedureaddress', 'ldrgetprocedureaddress', 'ldrgetprocedureaddress', 'ldrgetprocedureaddress', 'ldrgetprocedureaddress', 'ldrgetprocedureaddress', 'ldrgetprocedureaddress', 'ldrgetprocedureaddress', 'ldrgetprocedureaddress', 'ldrgetprocedureaddress', 'ldrgetprocedureaddress', 'ldrgetprocedureaddress', 'ldrgetprocedureaddress', 'ldrgetprocedureaddress', 'ldrgetprocedureaddress', 'ldrgetprocedureaddress', 'ldrgetprocedureaddress', 'ldrgetprocedureaddress', 'ldrgetprocedureaddress', 'ldrgetprocedureaddress', 'ldrgetprocedureaddress', 'ldrgetprocedureaddress', 'ldrgetprocedureaddress', 'ldrgetprocedureaddress', 'ldrgetprocedureaddress', 'ldrgetprocedureaddress', 'ldrgetprocedureaddress', 'ldrgetprocedureaddress', 'ldrgetprocedureaddress', 'ldrgetprocedureaddress', 'ldrgetprocedureaddress', 'ldrgetprocedureaddress', 'ldrgetprocedureaddress', 'ldrgetprocedureaddress', 'ldrgetprocedureaddress', 'ldrgetprocedureaddress', 'ldrgetprocedureaddress', 'ldrgetprocedureaddress', 'ldrgetprocedureaddress', 'ldrgetprocedureaddress', 'ldrgetprocedureaddress', 'ldrgetprocedureaddress', 'ldrgetprocedureaddress', 'ldrgetprocedureaddress', 'ldrgetprocedureaddress', 'ldrgetprocedureaddress', 'ldrgetprocedureaddress', 'ldrgetprocedureaddress', 'ldrgetprocedureaddress', 'ldrgetprocedureaddress', 'ldrgetprocedureaddress', 'ldrgetprocedureaddress', 'ldrloaddll', 'ldrgetprocedureaddress', 'ldrgetprocedureaddress', 'ldrgetprocedureaddress', 'ldrgetprocedureaddress', 'ldrgetprocedureaddress', 'ldrgetprocedureaddress', 'ldrgetprocedureaddress', 'ldrgetprocedureaddress', 'ldrgetprocedureaddress', 'ldrgetprocedureaddress', 'ldrgetprocedureaddress', 'ldrgetprocedureaddress', 'ldrloaddll', 'ldrgetprocedureaddress', 'ldrgetprocedureaddress', 'ldrgetprocedureaddress', 'ldrloaddll', 'ldrgetprocedureaddress', 'ldrgetprocedureaddress', 'ldrgetprocedureaddress', 'ldrgetprocedureaddress', 'ldrgetprocedureaddress', 'ldrgetprocedureaddress', 'ldrgetprocedureaddress', 'ldrgetprocedureaddress', 'ldrgetprocedureaddress', 'ldrgetprocedureaddress', 'ldrgetprocedureaddress', 'ldrgetprocedureaddress', 'ldrgetprocedureaddress', 'ldrgetprocedureaddress', 'ldrgetprocedureaddress', 'ldrgetprocedureaddress', 'ldrgetprocedureaddress', 'ldrgetprocedureaddress', 'ldrgetprocedureaddress', 'ldrgetprocedureaddress', 'ldrgetprocedureaddress', 'ldrgetprocedureaddress', 'ldrgetprocedureaddress', 'ldrgetprocedureaddress', 'ldrgetprocedureaddress', 'ldrgetprocedureaddress', 'ldrgetprocedureaddress', 'ldrgetprocedureaddress', 'ldrgetprocedureaddress', 'ldrgetprocedureaddress', 'ldrgetprocedureaddress', 'ldrgetprocedureaddress', 'ldrgetprocedureaddress', 'ldrgetprocedureaddress', 'ldrgetprocedureaddress', 'ldrgetprocedureaddress', 'ldrgetprocedureaddress', 'ldrgetprocedureaddress', 'ldrgetprocedureaddress', 'ldrgetprocedureaddress', 'ldrgetprocedureaddress', 'ldrgetprocedureaddress', 'ldrgetprocedureaddress', 'ldrgetprocedureaddress', 'ldrgetprocedureaddress', 'ldrgetprocedureaddress', 'ldrgetprocedureaddress', 'ldrgetprocedureaddress', 'ldrgetprocedureaddress', 'ldrgetprocedureaddress', 'ldrgetprocedureaddress', 'ldrgetprocedureaddress', 'ldrgetprocedureaddress', 'ldrgetprocedureaddress', 'ldrgetprocedureaddress', 'ldrgetprocedureaddress', 'ldrgetprocedureaddress', 'ldrgetprocedureaddress', 'ldrgetprocedureaddress', 'ldrgetprocedureaddress', 'ldrgetprocedureaddress', 'ldrgetprocedureaddress', 'ldrgetprocedureaddress', 'ldrgetprocedureaddress', 'ldrgetprocedureaddress', 'ldrgetprocedureaddress', 'ldrgetprocedureaddress', 'ldrgetprocedureaddress', 'ldrgetprocedureaddress', 'ldrgetprocedureaddress', 'ldrgetprocedureaddress', 'ldrgetprocedureaddress', 'ldrgetprocedureaddress', 'ldrgetprocedureaddress', 'ldrgetprocedureaddress', 'ldrgetprocedureaddress', 'ldrgetprocedureaddress', 'ldrgetprocedureaddress', 'ldrgetprocedureaddress', 'ldrgetprocedureaddress', 'ldrgetprocedureaddress', 'ldrgetprocedureaddress', 'ldrgetprocedureaddress', 'ldrgetprocedureaddress', 'ldrgetprocedureaddress', 'ldrgetprocedureaddress', 'ldrgetprocedureaddress', 'ldrgetprocedureaddress', 'ldrgetprocedureaddress', 'ldrgetprocedureaddress', 'ldrgetprocedureaddress', 'ldrgetprocedureaddress', 'ldrgetprocedureaddress', 'ldrgetprocedureaddress', 'ldrgetprocedureaddress', 'ldrgetprocedureaddress', 'ldrgetprocedureaddress', 'ldrgetprocedureaddress', 'ldrgetprocedureaddress', 'ldrgetprocedureaddress', 'ldrgetprocedureaddress', 'ldrgetprocedureaddress', 'ldrgetprocedureaddress', 'ldrgetprocedureaddress', 'ldrgetprocedureaddress', 'ldrgetprocedureaddress', 'ldrgetprocedureaddress', 'ldrgetprocedureaddress', 'ldrgetprocedureaddress', 'ldrgetprocedureaddress', 'ldrgetprocedureaddress', 'ldrgetprocedureaddress', 'ldrgetprocedureaddress', 'ldrgetprocedureaddress', 'ldrgetprocedureaddress', 'ldrgetprocedureaddress', 'ldrgetprocedureaddress', 'ldrgetprocedureaddress', 'ldrgetprocedureaddress', 'ldrgetprocedureaddress', 'ldrgetprocedureaddress', 'ldrgetprocedureaddress', 'ldrgetprocedureaddress', 'ldrgetprocedureaddress', 'ldrgetprocedureaddress', 'ldrgetprocedureaddress', 'ldrgetprocedureaddress', 'ldrgetprocedureaddress', 'ldrgetprocedureaddress', 'ldrgetprocedureaddress', 'ldrgetprocedureaddress', 'ldrgetprocedureaddress', 'ldrgetprocedureaddress', 'ldrgetprocedureaddress', 'ldrgetprocedureaddress', 'ldrgetprocedureaddress', 'ldrgetprocedureaddress', 'ldrgetprocedureaddress', 'ldrgetprocedureaddress', 'ldrgetprocedureaddress', 'ldrgetprocedureaddress', 'ldrgetprocedureaddress', 'ldrgetprocedureaddress', 'ldrgetprocedureaddress', 'ldrgetprocedureaddress', 'ldrgetprocedureaddress', 'ldrgetprocedureaddress', 'ldrgetprocedureaddress', 'ldrgetprocedureaddress', 'ldrgetprocedureaddress', 'ldrgetprocedureaddress', 'ldrgetprocedureaddress', 'ldrgetprocedureaddress', 'ldrgetprocedureaddress', 'ldrgetprocedureaddress', 'ldrgetprocedureaddress', 'ldrgetprocedureaddress', 'ldrgetprocedureaddress', 'ldrgetprocedureaddress', 'ldrgetprocedureaddress', 'ldrgetprocedureaddress', 'ldrloaddll', 'ldrgetprocedureaddress', 'ldrgetprocedureaddress', 'ldrgetprocedureaddress', 'ldrgetprocedureaddress', 'regopenkeyexa', 'regopenkeyexa', 'regopenkeyexa', 'ntopenkey', 'ntqueryvaluekey', 'ntclose', 'ntopenkey', 'ntqueryvaluekey', 'ntclose', 'ntclose', 'ntqueryattributesfile', 'ntqueryattributesfile', 'ntqueryattributesfile', 'ntqueryattributesfile', 'loadstringa', 'ntallocatevirtualmemory', 'ntallocatevirtualmemory', 'loadstringa', 'loadstringa', 'loadstringa', 'loadstringa', 'loadstringa', 'loadstringa', 'loadstringa', 'loadstringa', 'loadstringa', 'loadstringa', 'loadstringa', 'loadstringa', 'loadstringa', 'loadstringa', 'loadstringa', 'loadstringa', 'loadstringa', 'loadstringa', 'loadstringa', 'loadstringa', 'loadstringa', 'loadstringa', 'loadstringa', 'loadstringa', 'loadstringa', 'loadstringa', 'loadstringa', 'loadstringa', 'loadstringa', 'loadstringa', 'ldrgetdllhandle', 'ldrgetprocedureaddress', 'ldrgetdllhandle', 'loadstringa', 'loadstringa', 'loadstringa', 'loadstringa', 'loadstringa', 'loadstringa', 'loadstringa', 'loadstringa', 'loadstringa', 'loadstringa', 'loadstringa', 'loadstringa', 'loadstringa', 'loadstringa', 'loadstringa', 'loadstringa', 'loadstringa', 'loadstringa', 'ldrgetprocedureaddress', 'ldrgetprocedureaddress', 'getsystemmetrics', 'getsystemmetrics', 'findresourceexw', 'loadresource', 'findresourceexw', 'loadresource', 'findresourceexw', 'loadresource', 'findresourceexw', 'loadresource', 'findresourceexw', 'loadresource', 'findresourceexw', 'loadresource', 'findresourceexw', 'loadresource', 'findresourceexw', 'loadresource', 'findresourceexw', 'loadresource', 'findresourceexw', 'loadresource', 'findresourceexw', 'loadresource', 'findresourceexw', 'loadresource', 'findresourceexw', 'loadresource', 'findresourceexw', 'loadresource', 'ldrgetprocedureaddress', 'findresourceexw', 'loadresource', 'findresourceexw', 'loadresource', 'ntallocatevirtualmemory', 'getsystemmetrics', 'getsystemmetrics', 'ntclose', 'ntclose', 'getsystemmetrics', 'ntallocatevirtualmemory', 'getsystemmetrics', 'getsystemmetrics', 'ldrloaddll', 'ldrgetprocedureaddress', 'ldrgetdllhandle', 'findresourceexw', 'loadresource', 'findresourceexw', 'loadresource', 'drawtextexw', 'getsystemmetrics', 'getsystemmetrics', 'getsystemmetrics', 'getsystemmetrics', 'getsystemmetrics', 'getsystemmetrics', 'getsystemmetrics', 'getsystemmetrics', 'findresourceexw', 'loadresource', 'getsystemmetrics', 'getsystemmetrics', 'drawtextexw', 'ldrgetdllhandle', 'findresourceexw', 'loadresource', 'findresourceexw', 'loadresource', 'findresourceexw', 'loadresource', 'ldrgetdllhandle', 'ldrgetprocedureaddress', 'ldrgetdllhandle', 'ldrgetprocedureaddress', 'ldrgetprocedureaddress', 'ldrgetprocedureaddress', 'ldrgetprocedureaddress', 'ldrgetprocedureaddress', 'ldrgetprocedureaddress', 'ldrgetprocedureaddress', 'ldrgetprocedureaddress', 'ldrgetprocedureaddress', 'ldrgetprocedureaddress', 'ldrgetprocedureaddress', 'ldrgetprocedureaddress', 'ldrgetdllhandle', 'ldrgetprocedureaddress', 'getsystemmetrics', 'getsystemmetrics', 'findresourcea', 'findresourcea', 'loadresource', 'sizeofresource', 'ntallocatevirtualmemory', 'ntallocatevirtualmemory', 'ntallocatevirtualmemory', 'ldrloaddll', 'ldrgetprocedureaddress', 'ldrgetprocedureaddress', 'getsystemwindowsdirectoryw', 'ntcreatefile', 'ntcreatesection', 'ntmapviewofsection', 'ntclose', 'ntclose', 'getsystemmetrics', 'getsystemmetrics', 'ntallocatevirtualmemory', 'getsystemmetrics', 'getsystemmetrics', 'getsystemmetrics', 'getsystemmetrics', 'findresourceexw', 'loadresource', 'findresourceexw', 'loadresource', 'getsystemmetrics', 'getsystemmetrics', 'getsystemmetrics', 'getsystemmetrics', 'getsystemmetrics', 'getsystemmetrics', 'ldrgetdllhandle', 'findresourceexw', 'loadresource', 'findresourceexw', 'loadresource', 'regopenkeyexw', 'regopenkeyexw', 'regclosekey', 'ldrgetprocedureaddress', 'regopenkeyexw', 'regopenkeyexw', 'regclosekey', 'getsystemmetrics', 'ntallocatevirtualmemory', 'getsystemmetrics', 'getsystemmetrics', 'getsystemmetrics', 'getsystemmetrics', 'getsystemmetrics', 'getsystemmetrics', 'getsystemmetrics', 'getsystemmetrics', 'getsystemmetrics', 'ntallocatevirtualmemory', 'findresourceexw', 'loadresource', 'findresourceexw', 'loadresource', 'getsystemmetrics', 'getsystemmetrics', 'getsystemmetrics', 'drawtextexa', 'drawtextexa', 'drawtextexa', 'drawtextexa', 'drawtextexa', 'drawtextexa', 'drawtextexa', 'drawtextexa', 'drawtextexa', 'drawtextexa', 'drawtextexa', 'drawtextexa', 'drawtextexa', 'drawtextexa', 'drawtextexa', 'drawtextexa', 'drawtextexa', 'drawtextexa', 'drawtextexa', 'ntdelayexecution', 'getsystemmetrics', 'getsystemmetrics', 'findresourcea', 'findresourcea', 'loadresource', 'sizeofresource', 'getsystemmetrics', 'getsystemmetrics', 'getsystemmetrics', 'getsystemmetrics', 'getsystemmetrics', 'getsystemmetrics', 'ldrgetdllhandle', 'findresourceexw', 'loadresource', 'findresourceexw', 'loadresource', 'drawtextexa', 'ntdelayexecution', 'ldrgetprocedureaddress', 'getsystemmetrics', 'getsystemmetrics', 'getsystemmetrics', 'getsystemmetrics', 'getsystemmetrics', 'getsystemmetrics', 'getsystemmetrics', 'getsystemmetrics', 'getsystemmetrics', 'getsystemmetrics', 'getsystemmetrics', 'getsystemmetrics', 'getsystemmetrics', 'getsystemmetrics', 'getsystemmetrics', 'getsystemmetrics', 'drawtextexw', 'getsystemmetrics', 'getsystemmetrics', 'getsystemmetrics', 'getsystemmetrics', 'getsystemmetrics', 'getsystemmetrics', 'getsystemmetrics', 'getsystemmetrics', 'getsystemmetrics', 'getsystemmetrics', 'getsystemmetrics', 'getsystemmetrics', 'ntclose', 'ntclose', 'regopenkeyexw', 'getsystemdirectoryw', 'ldrloaddll', 'ldrgetprocedureaddress', 'ldrgetprocedureaddress', 'coinitializeex', 'ldrgetprocedureaddress', 'ldrgetprocedureaddress', 'ntclose', 'ntclose', 'regopenkeyexw', 'regqueryvalueexw', 'regclosekey', 'ntclose', 'ntclose', 'ntclose', 'ntclose', 'ntclose', 'ntopenmutant', 'ntclose', 'ntopensection', 'ntmapviewofsection', 'ntunmapviewofsection', 'ntclose', 'regopenkeyexw', 'regenumkeyexw', 'regopenkeyexw', 'regenumkeyexw', 'regopenkeyexw', 'regenumkeyexw', 'regopenkeyexw', 'regenumkeyexw', 'regopenkeyexw', 'regenumkeyexw', 'regenumkeyexw', 'regclosekey', 'regenumkeyexw', 'regopenkeyexw', 'regenumkeyexw', 'regopenkeyexw', 'regenumkeyexw', 'regenumkeyexw', 'regenumkeyexw', 'regenumkeyexw', 'regenumkeyexw', 'regenumkeyexw', 'regenumkeyexw', 'regclosekey', 'regenumkeyexw', 'regopenkeyexw', 'regenumkeyexw', 'regopenkeyexw', 'regenumkeyexw', 'regopenkeyexw', 'regenumkeyexw', 'regopenkeyexw', 'regenumkeyexw', 'regopenkeyexw', 'regenumkeyexw', 'regopenkeyexw', 'regenumkeyexw', 'regopenkeyexw', 'regenumkeyexw', 'regopenkeyexw', 'regenumkeyexw', 'regopenkeyexw', 'regenumkeyexw', 'regclosekey', 'ntclose', 'ntopenkey', 'regopenkeyexw', 'regclosekey', 'regqueryvalueexw', 'regqueryvalueexw', 'regqueryvalueexw', 'getsystemmetrics', 'regclosekey', 'getsystemmetrics', 'loadstringw', 'loadstringw', 'loadstringw', 'ntopensection', 'ntmapviewofsection', 'ntunmapviewofsection', 'ntclose', 'loadstringw', 'loadstringw', 'ntclose', 'ntopenkey', 'regopenkeyexw', 'regclosekey', 'regenumkeyexw', 'regclosekey', 'regopenkeyexw', 'regqueryvalueexw', 'regclosekey', 'regopenkeyexw', 'ldrgetdllhandle', 'findresourceexw', 'findresourceexw', 'drawtextexa', 'drawtextexa', 'drawtextexa', 'drawtextexa', 'drawtextexa', 'drawtextexa', 'drawtextexa', 'drawtextexa', 'drawtextexa', 'drawtextexa', 'drawtextexa', 'drawtextexa', 'drawtextexa', 'drawtextexa', 'drawtextexa', 'drawtextexa', 'drawtextexa', 'drawtextexa', 'drawtextexa', 'drawtextexa', 'drawtextexa', 'drawtextexa', 'drawtextexa', 'drawtextexa', 'getcursorpos', 'getcursorpos', 'getcursorpos', 'getcursorpos', 'getcursorpos', 'getcursorpos', 'getcursorpos', 'getcursorpos', 'getcursorpos', 'getcursorpos', 'getcursorpos', 'getcursorpos', 'getcursorpos', 'getcursorpos', 'getcursorpos', 'getcursorpos', 'getcursorpos', 'getcursorpos', 'getcursorpos', 'getcursorpos', 'getcursorpos', 'getcursorpos', 'getcursorpos', 'getcursorpos', 'getcursorpos', 'getcursorpos', 'getforegroundwindow', 'getcursorpos', 'getforegroundwindow', 'getkeystate', 'getcursorpos', 'getforegroundwindow', 'getcursorpos', 'getforegroundwindow', 'getcursorpos', 'getforegroundwindow', 'getcursorpos', 'getforegroundwindow', 'getcursorpos', 'getcursorpos', 'getcursorpos', 'getcursorpos', 'getcursorpos', 'getcursorpos', 'getcursorpos', 'getcursorpos', 'getforegroundwindow', 'getcursorpos', 'getforegroundwindow', 'getkeystate', 'getcursorpos', 'getforegroundwindow', 'getcursorpos', 'getforegroundwindow', 'getcursorpos', 'getforegroundwindow', 'getcursorpos', 'getforegroundwindow', 'getcursorpos', 'getforegroundwindow', 'getcursorpos', 'getcursorpos', 'getcursorpos', 'getcursorpos', 'getcursorpos', 'getcursorpos', 'getcursorpos', 'getcursorpos', 'getcursorpos', 'getcursorpos', 'getcursorpos', 'getcursorpos', 'getcursorpos', 'getcursorpos', 'getcursorpos', 'getcursorpos', 'getcursorpos', 'getcursorpos', 'getcursorpos', 'getcursorpos', 'getcursorpos', 'getcursorpos', 'getcursorpos', 'getcursorpos', 'getforegroundwindow', 'getcursorpos', 'getforegroundwindow', 'getkeystate', 'getcursorpos', 'getforegroundwindow', 'getcursorpos', 'getforegroundwindow', 'getcursorpos', 'getforegroundwindow', 'getcursorpos', 'getforegroundwindow', 'getcursorpos', 'getforegroundwindow', 'getcursorpos', 'getcursorpos', 'getcursorpos', 'getcursorpos', 'getcursorpos', 'getcursorpos', 'getcursorpos', 'getcursorpos', 'getcursorpos', 'getcursorpos', 'getcursorpos', 'getcursorpos', 'getcursorpos', 'getcursorpos', 'getcursorpos', 'getcursorpos', 'getcursorpos', 'getcursorpos', 'getcursorpos', 'getcursorpos', 'getcursorpos', 'getcursorpos', 'getcursorpos', 'getcursorpos', 'getcursorpos', 'getcursorpos', 'getcursorpos', 'getcursorpos', 'getcursorpos', 'getcursorpos', 'getcursorpos', 'getcursorpos', 'getcursorpos', 'getcursorpos', 'getcursorpos', 'getcursorpos', 'getcursorpos', 'getcursorpos', 'getcursorpos', 'getcursorpos', 'getcursorpos', 'getcursorpos', 'getcursorpos', 'getcursorpos', 'getcursorpos', 'getcursorpos', 'getcursorpos', 'getcursorpos', 'getcursorpos', 'getcursorpos', 'getcursorpos', 'getcursorpos', 'getcursorpos', 'getcursorpos', 'getcursorpos', 'getcursorpos', 'getcursorpos', 'getcursorpos', 'getcursorpos', 'getcursorpos', 'getcursorpos', 'getcursorpos', 'getcursorpos', 'getcursorpos', 'getcursorpos', 'getcursorpos', 'getcursorpos', 'getcursorpos', 'getcursorpos', 'getcursorpos', 'getcursorpos', 'getcursorpos', 'getcursorpos', 'getcursorpos', 'getcursorpos', 'getcursorpos', 'getcursorpos', 'getcursorpos', 'getcursorpos', 'getcursorpos', 'getcursorpos', 'getcursorpos', 'getcursorpos', 'getcursorpos', 'getcursorpos', 'getcursorpos', 'getcursorpos', 'getcursorpos', 'getcursorpos', 'getcursorpos', 'getcursorpos', 'getcursorpos', 'getcursorpos', 'getcursorpos', 'getcursorpos', 'getcursorpos', 'getcursorpos', 'getcursorpos', 'getcursorpos', 'getcursorpos', 'getcursorpos', 'getcursorpos', 'getcursorpos', 'getcursorpos', 'getcursorpos', 'getcursorpos', 'getcursorpos', 'getcursorpos', 'getcursorpos', 'getcursorpos', 'getcursorpos', 'getcursorpos', 'getcursorpos', 'getcursorpos', 'getcursorpos', 'getcursorpos', 'getcursorpos', 'getcursorpos', 'getcursorpos', 'getcursorpos\\n']\n",
            "['ldrloaddll', 'ldrgetprocedureaddress', 'ldrgetprocedureaddress', 'ldrgetprocedureaddress', 'ldrgetprocedureaddress', 'ldrgetprocedureaddress', 'ldrgetprocedureaddress', 'ldrgetprocedureaddress', 'ldrgetprocedureaddress', 'ldrgetprocedureaddress', 'ldrgetprocedureaddress', 'ldrgetprocedureaddress', 'ldrgetprocedureaddress', 'ldrgetprocedureaddress', 'ldrgetprocedureaddress', 'ldrgetprocedureaddress', 'ldrgetprocedureaddress', 'ldrgetprocedureaddress', 'ldrgetprocedureaddress', 'ldrgetprocedureaddress', 'ldrgetprocedureaddress', 'ldrgetprocedureaddress', 'ldrgetprocedureaddress', 'ldrgetprocedureaddress', 'ldrgetprocedureaddress', 'ldrgetprocedureaddress', 'ldrgetprocedureaddress', 'ldrgetprocedureaddress', 'ldrgetprocedureaddress', 'ldrgetprocedureaddress', 'ldrgetprocedureaddress', 'ldrgetprocedureaddress', 'ldrgetprocedureaddress', 'ldrgetprocedureaddress', 'ldrgetprocedureaddress', 'ldrgetprocedureaddress', 'ldrgetprocedureaddress', 'ldrloaddll', 'ldrgetprocedureaddress', 'ldrgetprocedureaddress', 'ldrgetprocedureaddress', 'ldrgetprocedureaddress', 'ldrgetprocedureaddress', 'ldrgetprocedureaddress', 'ldrgetprocedureaddress', 'ldrgetprocedureaddress', 'ldrgetprocedureaddress', 'ldrgetprocedureaddress', 'ldrgetprocedureaddress', 'ldrloaddll', 'ldrgetprocedureaddress', 'ldrloaddll', 'ldrgetprocedureaddress', 'ldrgetprocedureaddress', 'ldrgetprocedureaddress', 'ldrgetprocedureaddress', 'ldrgetprocedureaddress', 'ldrgetprocedureaddress', 'ldrgetprocedureaddress', 'ldrgetprocedureaddress', 'ldrgetprocedureaddress', 'ldrgetprocedureaddress', 'ldrgetprocedureaddress', 'ldrgetprocedureaddress', 'ldrgetprocedureaddress', 'ldrgetprocedureaddress', 'ldrgetprocedureaddress', 'ldrgetprocedureaddress', 'ldrloaddll', 'ldrgetprocedureaddress', 'ldrloaddll', 'ldrgetprocedureaddress', 'ldrgetprocedureaddress', 'ldrgetprocedureaddress', 'ldrgetprocedureaddress', 'ldrgetprocedureaddress', 'ldrgetprocedureaddress', 'ldrgetprocedureaddress', 'ldrgetprocedureaddress', 'ldrgetprocedureaddress', 'ldrgetprocedureaddress', 'ldrgetprocedureaddress', 'ldrgetprocedureaddress', 'ldrgetprocedureaddress', 'ldrloaddll', 'ldrgetprocedureaddress', 'ldrgetprocedureaddress', 'ldrgetprocedureaddress', 'ldrgetprocedureaddress', 'ldrgetprocedureaddress', 'ldrgetprocedureaddress', 'ldrgetprocedureaddress', 'ldrgetprocedureaddress', 'ldrgetprocedureaddress', 'ldrgetprocedureaddress', 'ldrgetprocedureaddress', 'ldrgetprocedureaddress', 'ldrgetprocedureaddress', 'ldrgetprocedureaddress', 'wsastartup', 'ntcreatemutant', 'regopenkeyexa', 'regdeletekeya', 'regclosekey', 'regopenkeyexa', 'regdeletekeya', 'regclosekey', 'regopenkeyexa', 'regdeletekeya', 'regclosekey', 'regopenkeyexa', 'regdeletekeya', 'regclosekey', 'regopenkeyexa', 'regdeletekeya', 'regclosekey', 'regopenkeyexa', 'regdeletekeya', 'regclosekey', 'regopenkeyexa', 'regdeletekeya', 'regclosekey', 'copyfilea', 'regopenkeyexa', 'regsetvalueexa', 'regclosekey', 'ntcreatefile', 'ldrgetdllhandle', 'findresourceexw', 'findresourceexw', 'ntallocatevirtualmemory', 'ntfreevirtualmemory', 'ntallocatevirtualmemory', 'ldrloaddll', 'ldrgetprocedureaddress', 'isdebuggerpresent', 'getsystemmetrics', 'ntmapviewofsection', 'ldrgetdllhandle', 'ldrgetprocedureaddress', 'ntallocatevirtualmemory', 'ntallocatevirtualmemory', 'ntallocatevirtualmemory', 'getsystemmetrics', 'getsystemmetrics', 'ntclose', 'ntclose', 'getsystemmetrics', 'ntallocatevirtualmemory', 'getsystemmetrics', 'getsystemmetrics', 'ldrloaddll', 'ldrgetprocedureaddress', 'createthread', 'ldrloaddll', 'ldrgetprocedureaddress', 'ldrgetprocedureaddress', 'ldrgetprocedureaddress', 'ldrgetprocedureaddress', 'ntallocatevirtualmemory', 'ntallocatevirtualmemory', 'ntquerysysteminformation', 'ntopensection', 'ntopensection', 'ntfreevirtualmemory', 'ntfreevirtualmemory', 'regopenkeyexa', 'regqueryvalueexa', 'regclosekey', 'gethostbyname', 'ntdelayexecution', 'gethostbyname', 'ntdelayexecution', 'gethostbyname', 'ntduplicateobject', 'ntclose', 'ntdelayexecution', 'gethostbyname', 'ntdelayexecution\\n']\n",
            "['ntprotectvirtualmemory', 'ntprotectvirtualmemory', 'ntprotectvirtualmemory', 'ldrloaddll', 'ldrloaddll', 'ldrloaddll', 'ldrloaddll', 'ldrloaddll', 'ldrloaddll', 'ldrloaddll', 'ntprotectvirtualmemory', 'ntprotectvirtualmemory', 'ntprotectvirtualmemory', 'seterrormode', 'ldrgetdllhandle', 'ldrgetdllhandle', 'ldrunloaddll', 'getsystemdirectorya', 'getsystemdirectorya', 'ntclose', 'ntopenkey', 'ntqueryvaluekey', 'ntclose', 'ntopenkey', 'ntqueryvaluekey', 'ntclose', 'ldrloaddll', 'ldrgetprocedureaddress', 'ldrgetprocedureaddress', 'getsystemwindowsdirectoryw', 'ntcreatefile', 'ntcreatesection', 'ntmapviewofsection', 'ntclose', 'ntclose', 'copyfilea', 'getshortpathnamew', 'ntdelayexecution', 'ntclose', 'ntclose', 'createprocessinternalw', 'ntresumethread', 'ntterminateprocess', 'ntterminateprocess', 'ntclose', 'ntclose', 'ntclose', 'ntclose', 'ntclose', 'ntclose', 'ntclose', 'ntclose', 'ldrunloaddll', 'ntopenkey', 'ntqueryvaluekey', 'ntclose', 'ntclose', 'ntclose', 'ntclose', 'ntterminateprocess\\n']\n"
          ],
          "name": "stdout"
        }
      ]
    },
    {
      "cell_type": "code",
      "metadata": {
        "id": "-BEwkwODvVCE",
        "colab_type": "code",
        "colab": {}
      },
      "source": [
        "final_call = []\n",
        "for call_list in data:\n",
        "  call_list_temp = []\n",
        "  for call in call_list:\n",
        "    i = 0\n",
        "    runIt = True\n",
        "    while(i < len(sequence) and runIt):\n",
        "      if sequence[i] == call:\n",
        "        call_list_temp.append(i)\n",
        "        runIt = False\n",
        "      i += 1\n",
        "  final_call.append(call_list_temp)"
      ],
      "execution_count": 0,
      "outputs": []
    },
    {
      "cell_type": "code",
      "metadata": {
        "id": "i-BrHG9J1at5",
        "colab_type": "code",
        "colab": {}
      },
      "source": [
        "for i in range(len(final_call)):\n",
        "  print(len(final_call[i]))"
      ],
      "execution_count": 0,
      "outputs": []
    },
    {
      "cell_type": "code",
      "metadata": {
        "id": "fDRYWp8UvfOF",
        "colab_type": "code",
        "colab": {}
      },
      "source": [
        "return_list = []\n",
        "for call_list in final_call:\n",
        "    temp_string = \"\"\n",
        "    for ind in call_list:\n",
        "      temp_string += str(ind) + \" \"\n",
        "    temp_string = temp_string[:-1]\n",
        "    return_list.append(temp_string)"
      ],
      "execution_count": 0,
      "outputs": []
    },
    {
      "cell_type": "code",
      "metadata": {
        "id": "yXbCfSvvqaxM",
        "colab_type": "code",
        "outputId": "304c19c3-70e7-48fb-911e-11f1aa5a90af",
        "colab": {
          "base_uri": "https://localhost:8080/",
          "height": 105
        }
      },
      "source": [
        "for item in range(5):\n",
        "  print(len(return_list[item].split(' ')))"
      ],
      "execution_count": 0,
      "outputs": [
        {
          "output_type": "stream",
          "text": [
            "262\n",
            "48\n",
            "1033\n",
            "178\n",
            "59\n"
          ],
          "name": "stdout"
        }
      ]
    },
    {
      "cell_type": "code",
      "metadata": {
        "id": "c3f_qkAb49Of",
        "colab_type": "code",
        "colab": {}
      },
      "source": [
        "working_df['data'] = return_list"
      ],
      "execution_count": 0,
      "outputs": []
    },
    {
      "cell_type": "code",
      "metadata": {
        "id": "odmpidQv5EdN",
        "colab_type": "code",
        "colab": {}
      },
      "source": [
        "working_df = working_df.drop(columns=['data_unembedded'])"
      ],
      "execution_count": 0,
      "outputs": []
    },
    {
      "cell_type": "code",
      "metadata": {
        "id": "88VENW6S5K_9",
        "colab_type": "code",
        "colab": {}
      },
      "source": [
        "print(working_df.head())"
      ],
      "execution_count": 0,
      "outputs": []
    },
    {
      "cell_type": "code",
      "metadata": {
        "id": "NtdTieiH5Z2f",
        "colab_type": "code",
        "colab": {}
      },
      "source": [
        "working_df.to_csv('working_sample.csv')"
      ],
      "execution_count": 0,
      "outputs": []
    },
    {
      "cell_type": "markdown",
      "metadata": {
        "id": "lNNufkQOmxld",
        "colab_type": "text"
      },
      "source": [
        "New df"
      ]
    },
    {
      "cell_type": "code",
      "metadata": {
        "id": "ND9QLwzkmwYH",
        "colab_type": "code",
        "colab": {}
      },
      "source": [
        "wroking_df = pd.DataFrame(index_temp)"
      ],
      "execution_count": 0,
      "outputs": []
    },
    {
      "cell_type": "code",
      "metadata": {
        "id": "aSxz0Ir1nLw1",
        "colab_type": "code",
        "outputId": "b249f842-5ff7-4ee4-a96b-7b12ed15a93a",
        "colab": {
          "base_uri": "https://localhost:8080/",
          "height": 123
        }
      },
      "source": [
        "print(wroking_df.head())"
      ],
      "execution_count": 0,
      "outputs": [
        {
          "output_type": "stream",
          "text": [
            "   index     label                                               data\n",
            "0      1    Trojan  52 8 35 8 9 1 1 1 1 9 1 9 1 9 1 9 1 9 1 9 1 9 ...\n",
            "1      2    Trojan  9 1 76 87 2 99 21 42 21 17 17 61 65 5 2 99 21 ...\n",
            "2      3  Backdoor  0 1 0 1 1 1 1 1 1 1 1 1 1 1 1 1 1 1 1 1 1 1 1 ...\n",
            "3      4  Backdoor  0 1 1 1 1 1 1 1 1 1 1 1 1 1 1 1 1 1 1 1 1 1 1 ...\n",
            "4      5    Trojan  68 68 68 0 0 0 0 0 0 0 68 68 68 59 9 9 45 76 7...\n"
          ],
          "name": "stdout"
        }
      ]
    },
    {
      "cell_type": "code",
      "metadata": {
        "id": "n4z34cN8nHGu",
        "colab_type": "code",
        "colab": {}
      },
      "source": [
        "wroking_df.columns = ['index']"
      ],
      "execution_count": 0,
      "outputs": []
    },
    {
      "cell_type": "code",
      "metadata": {
        "id": "WhLEsDG4nU6D",
        "colab_type": "code",
        "colab": {}
      },
      "source": [
        "temp_labels = []\n",
        "for lab in labels:\n",
        "  temp_labels.append(re.sub(r'\\n', '', lab))\n",
        "wroking_df['label'] = temp_labels\n",
        "wroking_df['data'] = return_list"
      ],
      "execution_count": 0,
      "outputs": []
    },
    {
      "cell_type": "code",
      "metadata": {
        "id": "IImoypHiqyaE",
        "colab_type": "code",
        "colab": {}
      },
      "source": [
        "wroking_df.to_csv('working_sample.csv')"
      ],
      "execution_count": 0,
      "outputs": []
    },
    {
      "cell_type": "code",
      "metadata": {
        "id": "EsB5UrxHO3f6",
        "colab_type": "code",
        "colab": {}
      },
      "source": [
        "del wroking_df"
      ],
      "execution_count": 0,
      "outputs": []
    }
  ]
}